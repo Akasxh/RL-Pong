{
 "cells": [
  {
   "cell_type": "code",
   "execution_count": 47,
   "metadata": {},
   "outputs": [
    {
     "name": "stdout",
     "output_type": "stream",
     "text": [
      "Requirement already satisfied: gym[atari] in c:\\users\\draka\\downloads\\codes\\projects\\virtual_environment\\lib\\site-packages (0.26.2)"
     ]
    },
    {
     "name": "stderr",
     "output_type": "stream",
     "text": [
      "\n",
      "[notice] A new release of pip is available: 23.0.1 -> 24.3.1\n",
      "[notice] To update, run: python.exe -m pip install --upgrade pip\n"
     ]
    },
    {
     "name": "stdout",
     "output_type": "stream",
     "text": [
      "\n",
      "Requirement already satisfied: gym-notices>=0.0.4 in c:\\users\\draka\\downloads\\codes\\projects\\virtual_environment\\lib\\site-packages (from gym[atari]) (0.0.8)\n",
      "Requirement already satisfied: numpy>=1.18.0 in c:\\users\\draka\\downloads\\codes\\projects\\virtual_environment\\lib\\site-packages (from gym[atari]) (1.26.4)\n",
      "Requirement already satisfied: cloudpickle>=1.2.0 in c:\\users\\draka\\downloads\\codes\\projects\\virtual_environment\\lib\\site-packages (from gym[atari]) (3.1.0)\n",
      "Requirement already satisfied: ale-py~=0.8.0 in c:\\users\\draka\\downloads\\codes\\projects\\virtual_environment\\lib\\site-packages (from gym[atari]) (0.8.1)\n",
      "Requirement already satisfied: importlib-resources in c:\\users\\draka\\downloads\\codes\\projects\\virtual_environment\\lib\\site-packages (from ale-py~=0.8.0->gym[atari]) (6.4.5)\n",
      "Requirement already satisfied: typing-extensions in c:\\users\\draka\\downloads\\codes\\projects\\virtual_environment\\lib\\site-packages (from ale-py~=0.8.0->gym[atari]) (4.12.2)\n",
      "Requirement already satisfied: autorom[accept-rom-license] in c:\\users\\draka\\downloads\\codes\\projects\\virtual_environment\\lib\\site-packages (0.6.1)\n",
      "Requirement already satisfied: requests in c:\\users\\draka\\downloads\\codes\\projects\\virtual_environment\\lib\\site-packages (from autorom[accept-rom-license]) (2.32.3)\n",
      "Requirement already satisfied: click in c:\\users\\draka\\downloads\\codes\\projects\\virtual_environment\\lib\\site-packages (from autorom[accept-rom-license]) (8.1.7)\n",
      "Requirement already satisfied: AutoROM.accept-rom-license in c:\\users\\draka\\downloads\\codes\\projects\\virtual_environment\\lib\\site-packages (from autorom[accept-rom-license]) (0.6.1)\n",
      "Requirement already satisfied: colorama in c:\\users\\draka\\downloads\\codes\\projects\\virtual_environment\\lib\\site-packages (from click->autorom[accept-rom-license]) (0.4.6)\n",
      "Requirement already satisfied: charset-normalizer<4,>=2 in c:\\users\\draka\\downloads\\codes\\projects\\virtual_environment\\lib\\site-packages (from requests->autorom[accept-rom-license]) (3.3.2)\n",
      "Requirement already satisfied: idna<4,>=2.5 in c:\\users\\draka\\downloads\\codes\\projects\\virtual_environment\\lib\\site-packages (from requests->autorom[accept-rom-license]) (3.10)\n",
      "Requirement already satisfied: certifi>=2017.4.17 in c:\\users\\draka\\downloads\\codes\\projects\\virtual_environment\\lib\\site-packages (from requests->autorom[accept-rom-license]) (2024.8.30)\n",
      "Requirement already satisfied: urllib3<3,>=1.21.1 in c:\\users\\draka\\downloads\\codes\\projects\\virtual_environment\\lib\\site-packages (from requests->autorom[accept-rom-license]) (2.2.3)\n"
     ]
    },
    {
     "name": "stderr",
     "output_type": "stream",
     "text": [
      "\n",
      "[notice] A new release of pip is available: 23.0.1 -> 24.3.1\n",
      "[notice] To update, run: python.exe -m pip install --upgrade pip\n"
     ]
    },
    {
     "name": "stdout",
     "output_type": "stream",
     "text": [
      "Requirement already satisfied: opencv-python in c:\\users\\draka\\downloads\\codes\\projects\\virtual_environment\\lib\\site-packages (4.10.0.84)\n",
      "Requirement already satisfied: numpy>=1.17.0 in c:\\users\\draka\\downloads\\codes\\projects\\virtual_environment\\lib\\site-packages (from opencv-python) (1.26.4)\n"
     ]
    },
    {
     "name": "stderr",
     "output_type": "stream",
     "text": [
      "\n",
      "[notice] A new release of pip is available: 23.0.1 -> 24.3.1\n",
      "[notice] To update, run: python.exe -m pip install --upgrade pip\n"
     ]
    },
    {
     "name": "stdout",
     "output_type": "stream",
     "text": [
      "Requirement already satisfied: torch in c:\\users\\draka\\downloads\\codes\\projects\\virtual_environment\\lib\\site-packages (2.6.0.dev20240930+cu121)\n",
      "Requirement already satisfied: filelock in c:\\users\\draka\\downloads\\codes\\projects\\virtual_environment\\lib\\site-packages (from torch) (3.13.1)\n",
      "Requirement already satisfied: networkx in c:\\users\\draka\\downloads\\codes\\projects\\virtual_environment\\lib\\site-packages (from torch) (3.3)\n",
      "Requirement already satisfied: jinja2 in c:\\users\\draka\\downloads\\codes\\projects\\virtual_environment\\lib\\site-packages (from torch) (3.1.4)\n",
      "Requirement already satisfied: typing-extensions>=4.8.0 in c:\\users\\draka\\downloads\\codes\\projects\\virtual_environment\\lib\\site-packages (from torch) (4.12.2)\n",
      "Requirement already satisfied: fsspec in c:\\users\\draka\\downloads\\codes\\projects\\virtual_environment\\lib\\site-packages (from torch) (2024.6.1)\n",
      "Requirement already satisfied: sympy==1.13.1 in c:\\users\\draka\\downloads\\codes\\projects\\virtual_environment\\lib\\site-packages (from torch) (1.13.1)\n",
      "Requirement already satisfied: mpmath<1.4,>=1.1.0 in c:\\users\\draka\\downloads\\codes\\projects\\virtual_environment\\lib\\site-packages (from sympy==1.13.1->torch) (1.3.0)\n",
      "Requirement already satisfied: MarkupSafe>=2.0 in c:\\users\\draka\\downloads\\codes\\projects\\virtual_environment\\lib\\site-packages (from jinja2->torch) (2.1.5)\n"
     ]
    },
    {
     "name": "stderr",
     "output_type": "stream",
     "text": [
      "\n",
      "[notice] A new release of pip is available: 23.0.1 -> 24.3.1\n",
      "[notice] To update, run: python.exe -m pip install --upgrade pip\n"
     ]
    },
    {
     "name": "stdout",
     "output_type": "stream",
     "text": [
      "Requirement already satisfied: stable-baselines3 in c:\\users\\draka\\downloads\\codes\\projects\\virtual_environment\\lib\\site-packages (2.3.2)\n",
      "Requirement already satisfied: pandas in c:\\users\\draka\\downloads\\codes\\projects\\virtual_environment\\lib\\site-packages (from stable-baselines3) (2.2.3)\n",
      "Requirement already satisfied: torch>=1.13 in c:\\users\\draka\\downloads\\codes\\projects\\virtual_environment\\lib\\site-packages (from stable-baselines3) (2.6.0.dev20240930+cu121)\n",
      "Requirement already satisfied: matplotlib in c:\\users\\draka\\downloads\\codes\\projects\\virtual_environment\\lib\\site-packages (from stable-baselines3) (3.9.2)\n",
      "Requirement already satisfied: gymnasium<0.30,>=0.28.1 in c:\\users\\draka\\downloads\\codes\\projects\\virtual_environment\\lib\\site-packages (from stable-baselines3) (0.29.1)\n",
      "Requirement already satisfied: numpy>=1.20 in c:\\users\\draka\\downloads\\codes\\projects\\virtual_environment\\lib\\site-packages (from stable-baselines3) (1.26.4)\n",
      "Requirement already satisfied: cloudpickle in c:\\users\\draka\\downloads\\codes\\projects\\virtual_environment\\lib\\site-packages (from stable-baselines3) (3.1.0)\n",
      "Requirement already satisfied: typing-extensions>=4.3.0 in c:\\users\\draka\\downloads\\codes\\projects\\virtual_environment\\lib\\site-packages (from gymnasium<0.30,>=0.28.1->stable-baselines3) (4.12.2)\n",
      "Requirement already satisfied: farama-notifications>=0.0.1 in c:\\users\\draka\\downloads\\codes\\projects\\virtual_environment\\lib\\site-packages (from gymnasium<0.30,>=0.28.1->stable-baselines3) (0.0.4)\n",
      "Requirement already satisfied: filelock in c:\\users\\draka\\downloads\\codes\\projects\\virtual_environment\\lib\\site-packages (from torch>=1.13->stable-baselines3) (3.13.1)\n",
      "Requirement already satisfied: networkx in c:\\users\\draka\\downloads\\codes\\projects\\virtual_environment\\lib\\site-packages (from torch>=1.13->stable-baselines3) (3.3)\n",
      "Requirement already satisfied: fsspec in c:\\users\\draka\\downloads\\codes\\projects\\virtual_environment\\lib\\site-packages (from torch>=1.13->stable-baselines3) (2024.6.1)\n",
      "Requirement already satisfied: sympy==1.13.1 in c:\\users\\draka\\downloads\\codes\\projects\\virtual_environment\\lib\\site-packages (from torch>=1.13->stable-baselines3) (1.13.1)\n",
      "Requirement already satisfied: jinja2 in c:\\users\\draka\\downloads\\codes\\projects\\virtual_environment\\lib\\site-packages (from torch>=1.13->stable-baselines3) (3.1.4)\n",
      "Requirement already satisfied: mpmath<1.4,>=1.1.0 in c:\\users\\draka\\downloads\\codes\\projects\\virtual_environment\\lib\\site-packages (from sympy==1.13.1->torch>=1.13->stable-baselines3) (1.3.0)\n",
      "Requirement already satisfied: kiwisolver>=1.3.1 in c:\\users\\draka\\downloads\\codes\\projects\\virtual_environment\\lib\\site-packages (from matplotlib->stable-baselines3) (1.4.7)\n",
      "Requirement already satisfied: packaging>=20.0 in c:\\users\\draka\\downloads\\codes\\projects\\virtual_environment\\lib\\site-packages (from matplotlib->stable-baselines3) (24.1)\n",
      "Requirement already satisfied: pyparsing>=2.3.1 in c:\\users\\draka\\downloads\\codes\\projects\\virtual_environment\\lib\\site-packages (from matplotlib->stable-baselines3) (3.1.4)\n",
      "Requirement already satisfied: contourpy>=1.0.1 in c:\\users\\draka\\downloads\\codes\\projects\\virtual_environment\\lib\\site-packages (from matplotlib->stable-baselines3) (1.3.0)\n",
      "Requirement already satisfied: cycler>=0.10 in c:\\users\\draka\\downloads\\codes\\projects\\virtual_environment\\lib\\site-packages (from matplotlib->stable-baselines3) (0.12.1)\n",
      "Requirement already satisfied: pillow>=8 in c:\\users\\draka\\downloads\\codes\\projects\\virtual_environment\\lib\\site-packages (from matplotlib->stable-baselines3) (9.3.0)\n",
      "Requirement already satisfied: python-dateutil>=2.7 in c:\\users\\draka\\downloads\\codes\\projects\\virtual_environment\\lib\\site-packages (from matplotlib->stable-baselines3) (2.9.0.post0)\n",
      "Requirement already satisfied: fonttools>=4.22.0 in c:\\users\\draka\\downloads\\codes\\projects\\virtual_environment\\lib\\site-packages (from matplotlib->stable-baselines3) (4.54.1)\n",
      "Requirement already satisfied: pytz>=2020.1 in c:\\users\\draka\\downloads\\codes\\projects\\virtual_environment\\lib\\site-packages (from pandas->stable-baselines3) (2024.2)\n",
      "Requirement already satisfied: tzdata>=2022.7 in c:\\users\\draka\\downloads\\codes\\projects\\virtual_environment\\lib\\site-packages (from pandas->stable-baselines3) (2024.2)\n",
      "Requirement already satisfied: six>=1.5 in c:\\users\\draka\\downloads\\codes\\projects\\virtual_environment\\lib\\site-packages (from python-dateutil>=2.7->matplotlib->stable-baselines3) (1.16.0)\n",
      "Requirement already satisfied: MarkupSafe>=2.0 in c:\\users\\draka\\downloads\\codes\\projects\\virtual_environment\\lib\\site-packages (from jinja2->torch>=1.13->stable-baselines3) (2.1.5)\n"
     ]
    },
    {
     "name": "stderr",
     "output_type": "stream",
     "text": [
      "\n",
      "[notice] A new release of pip is available: 23.0.1 -> 24.3.1\n",
      "[notice] To update, run: python.exe -m pip install --upgrade pip\n"
     ]
    },
    {
     "name": "stdout",
     "output_type": "stream",
     "text": [
      "Requirement already satisfied: shimmy in c:\\users\\draka\\downloads\\codes\\projects\\virtual_environment\\lib\\site-packages (0.2.1)\n",
      "Requirement already satisfied: numpy>=1.18.0 in c:\\users\\draka\\downloads\\codes\\projects\\virtual_environment\\lib\\site-packages (from shimmy) (1.26.4)\n",
      "Requirement already satisfied: gymnasium>=0.27.0 in c:\\users\\draka\\downloads\\codes\\projects\\virtual_environment\\lib\\site-packages (from shimmy) (0.29.1)\n",
      "Requirement already satisfied: farama-notifications>=0.0.1 in c:\\users\\draka\\downloads\\codes\\projects\\virtual_environment\\lib\\site-packages (from gymnasium>=0.27.0->shimmy) (0.0.4)\n",
      "Requirement already satisfied: cloudpickle>=1.2.0 in c:\\users\\draka\\downloads\\codes\\projects\\virtual_environment\\lib\\site-packages (from gymnasium>=0.27.0->shimmy) (3.1.0)\n",
      "Requirement already satisfied: typing-extensions>=4.3.0 in c:\\users\\draka\\downloads\\codes\\projects\\virtual_environment\\lib\\site-packages (from gymnasium>=0.27.0->shimmy) (4.12.2)\n"
     ]
    },
    {
     "name": "stderr",
     "output_type": "stream",
     "text": [
      "\n",
      "[notice] A new release of pip is available: 23.0.1 -> 24.3.1\n",
      "[notice] To update, run: python.exe -m pip install --upgrade pip\n"
     ]
    }
   ],
   "source": [
    "!pip install gym[atari]\n",
    "!pip install autorom[accept-rom-license]\n",
    "!pip install opencv-python\n",
    "!pip install torch \n",
    "!pip install stable-baselines3\n",
    "!pip install shimmy\n"
   ]
  },
  {
   "cell_type": "code",
   "execution_count": 48,
   "metadata": {},
   "outputs": [],
   "source": [
    "import gym\n",
    "import numpy as np\n",
    "import torch\n",
    "import torch.nn as nn\n",
    "import torch.optim as optim\n",
    "import random\n",
    "import cv2\n",
    "from collections import deque\n",
    "from tqdm import tqdm\n",
    "from stable_baselines3.common.vec_env import DummyVecEnv  # For parallel environments\n",
    "\n",
    "# Frame preprocessing function\n",
    "def preprocess_frame(frame):\n",
    "    frame = cv2.cvtColor(frame, cv2.COLOR_RGB2GRAY)  # Convert to grayscale\n",
    "    frame = cv2.resize(frame, (84, 84))  # Resize to 84x84\n",
    "    return frame / 255.0  # Normalize pixel values to [0, 1]\n",
    "\n",
    "# Define the DQN Network\n",
    "class DQN(nn.Module):\n",
    "    def __init__(self, input_shape, num_actions):\n",
    "        super(DQN, self).__init__()\n",
    "        self.conv = nn.Sequential(\n",
    "            nn.Conv2d(input_shape[0], 32, kernel_size=8, stride=4),\n",
    "            nn.ReLU(),\n",
    "            nn.Conv2d(32, 64, kernel_size=4, stride=2),\n",
    "            nn.ReLU(),\n",
    "            nn.Conv2d(64, 64, kernel_size=3, stride=1),\n",
    "            nn.ReLU()\n",
    "        )\n",
    "        conv_out_size = self._get_conv_out(input_shape)\n",
    "        self.fc = nn.Sequential(\n",
    "            nn.Linear(conv_out_size, 512),\n",
    "            nn.ReLU(),\n",
    "            nn.Linear(512, num_actions)\n",
    "        )\n",
    "\n",
    "    def _get_conv_out(self, shape):\n",
    "        o = torch.zeros(1, *shape)\n",
    "        o = self.conv(o)\n",
    "        return int(np.prod(o.size()))\n",
    "\n",
    "    def forward(self, x):\n",
    "        conv_out = self.conv(x).view(x.size()[0], -1)\n",
    "        return self.fc(conv_out)\n",
    "\n",
    "# Experience Replay Buffer\n",
    "class ReplayBuffer:\n",
    "    def __init__(self, capacity):\n",
    "        self.buffer = deque(maxlen=capacity)\n",
    "\n",
    "    def push(self, state, action, reward, next_state, done):\n",
    "        self.buffer.append((state, action, reward, next_state, done))\n",
    "\n",
    "    def sample(self, batch_size):\n",
    "        batch = random.sample(self.buffer, batch_size)\n",
    "        states, actions, rewards, next_states, dones = zip(*batch)\n",
    "        return np.array(states), actions, rewards, np.array(next_states), dones\n",
    "\n",
    "    def __len__(self):\n",
    "        return len(self.buffer)\n",
    "\n",
    "# Main DQN agent class\n",
    "class DQNAgent:\n",
    "    def __init__(self, env, buffer_size=1000000, batch_size=64, gamma=0.99, lr=1e-4, epsilon=1.0, epsilon_min=0.1, epsilon_decay=0.995):\n",
    "        self.env = env\n",
    "        self.memory = ReplayBuffer(buffer_size)\n",
    "        self.batch_size = batch_size\n",
    "        self.gamma = gamma\n",
    "        self.epsilon = epsilon\n",
    "        self.epsilon_min = epsilon_min\n",
    "        self.epsilon_decay = epsilon_decay\n",
    "        self.num_actions = env.action_space.n\n",
    "\n",
    "        self.device = torch.device(\"cuda\" if torch.cuda.is_available() else \"cpu\")\n",
    "\n",
    "        # Initialize DQN and target DQN\n",
    "        input_shape = (4, 84, 84)  # 4 stacked frames of 84x84\n",
    "        self.policy_net = DQN(input_shape, self.num_actions).to(self.device)\n",
    "        self.target_net = DQN(input_shape, self.num_actions).to(self.device)\n",
    "        self.target_net.load_state_dict(self.policy_net.state_dict())\n",
    "        self.target_net.eval()\n",
    "\n",
    "        self.optimizer = optim.Adam(self.policy_net.parameters(), lr=lr)\n",
    "\n",
    "    def select_action(self, state):\n",
    "        if random.random() < self.epsilon:\n",
    "            return self.env.action_space.sample()\n",
    "        else:\n",
    "            state = torch.FloatTensor(state).unsqueeze(0).to(self.device)\n",
    "            with torch.no_grad():\n",
    "                q_values = self.policy_net(state)\n",
    "            return q_values.max(1)[1].item()\n",
    "\n",
    "    def store_experience(self, state, action, reward, next_state, done):\n",
    "        self.memory.push(state, action, reward, next_state, done)\n",
    "\n",
    "    def update_target_net(self):\n",
    "        self.target_net.load_state_dict(self.policy_net.state_dict())\n",
    "\n",
    "    def train_step(self):\n",
    "        if len(self.memory) < self.batch_size:\n",
    "            return\n",
    "\n",
    "        # Parallelized batch processing\n",
    "        states, actions, rewards, next_states, dones = self.memory.sample(self.batch_size)\n",
    "\n",
    "        states = torch.FloatTensor(states).to(self.device)\n",
    "        actions = torch.LongTensor(actions).to(self.device)\n",
    "        rewards = torch.FloatTensor(rewards).to(self.device)\n",
    "        next_states = torch.FloatTensor(next_states).to(self.device)\n",
    "        dones = torch.FloatTensor(dones).to(self.device)\n",
    "\n",
    "        # Q-value prediction\n",
    "        q_values = self.policy_net(states)\n",
    "        next_q_values = self.target_net(next_states)\n",
    "\n",
    "        q_value = q_values.gather(1, actions.unsqueeze(1)).squeeze(1)\n",
    "        next_q_value = next_q_values.max(1)[0]\n",
    "\n",
    "        # Bellman equation\n",
    "        expected_q_value = rewards + (1 - dones) * self.gamma * next_q_value\n",
    "\n",
    "        # Compute loss\n",
    "        loss = nn.MSELoss()(q_value, expected_q_value.detach())\n",
    "\n",
    "        # Optimize the model\n",
    "        self.optimizer.zero_grad()\n",
    "        loss.backward()\n",
    "        self.optimizer.step()\n",
    "\n",
    "\n",
    "# Create a parallelized environment\n",
    "def make_env(env_name):\n",
    "    def _init():\n",
    "        env = gym.make(env_name)\n",
    "        return env\n",
    "    return _init\n",
    "\n"
   ]
  },
  {
   "cell_type": "code",
   "execution_count": 63,
   "metadata": {},
   "outputs": [
    {
     "name": "stderr",
     "output_type": "stream",
     "text": [
      "c:\\Users\\draka\\Downloads\\CODES\\projects\\virtual_environment\\lib\\site-packages\\stable_baselines3\\common\\vec_env\\patch_gym.py:49: UserWarning: You provided an OpenAI Gym environment. We strongly recommend transitioning to Gymnasium environments. Stable-Baselines3 is automatically wrapping your environments in a compatibility layer, which could potentially cause issues.\n",
      "  warnings.warn(\n",
      "C:\\Users\\draka\\AppData\\Local\\Temp\\ipykernel_18220\\2944413868.py:12: FutureWarning: `torch.cuda.amp.GradScaler(args...)` is deprecated. Please use `torch.amp.GradScaler('cuda', args...)` instead.\n",
      "  scaler = GradScaler(\"cuda\")\n",
      "  0%|          | 0/150 [00:00<?, ?it/s]c:\\Users\\draka\\Downloads\\CODES\\projects\\virtual_environment\\lib\\site-packages\\gym\\utils\\passive_env_checker.py:233: DeprecationWarning: `np.bool8` is a deprecated alias for `np.bool_`.  (Deprecated NumPy 1.24)\n",
      "  if not isinstance(terminated, (bool, np.bool8)):\n",
      "C:\\Users\\draka\\AppData\\Local\\Temp\\ipykernel_18220\\2944413868.py:31: FutureWarning: `torch.cuda.amp.autocast(args...)` is deprecated. Please use `torch.amp.autocast('cuda', args...)` instead.\n",
      "  with autocast():  # Enable autocast for mixed precision\n",
      "C:\\Users\\draka\\AppData\\Local\\Temp\\ipykernel_18220\\1470071314.py:111: DeprecationWarning: In future, it will be an error for 'np.bool_' scalars to be interpreted as an index\n",
      "  dones = torch.FloatTensor(dones).to(self.device)\n",
      "  1%|          | 1/150 [02:10<5:25:00, 130.88s/it]"
     ]
    },
    {
     "name": "stdout",
     "output_type": "stream",
     "text": [
      "Episode: 0, Reward: -21.00, Epsilon: 0.10\n",
      "Episode: 0, Reward: -21.00, Epsilon: 0.10\n",
      "Episode: 0, Reward: -15.00, Epsilon: 0.10\n",
      "Episode: 0, Reward: -19.00, Epsilon: 0.10\n",
      "Episode: 0, Reward: -21.00, Epsilon: 0.10\n",
      "Episode: 0, Reward: -21.00, Epsilon: 0.10\n",
      "Episode: 0, Reward: -21.00, Epsilon: 0.10\n",
      "Episode: 0, Reward: -21.00, Epsilon: 0.10\n"
     ]
    },
    {
     "name": "stderr",
     "output_type": "stream",
     "text": [
      "  1%|▏         | 2/150 [04:27<5:31:07, 134.24s/it]"
     ]
    },
    {
     "name": "stdout",
     "output_type": "stream",
     "text": [
      "Episode: 1, Reward: -19.00, Epsilon: 0.10\n",
      "Episode: 1, Reward: -19.00, Epsilon: 0.10\n",
      "Episode: 1, Reward: -20.00, Epsilon: 0.10\n",
      "Episode: 1, Reward: -20.00, Epsilon: 0.10\n",
      "Episode: 1, Reward: -21.00, Epsilon: 0.10\n",
      "Episode: 1, Reward: -19.00, Epsilon: 0.10\n",
      "Episode: 1, Reward: -19.00, Epsilon: 0.10\n",
      "Episode: 1, Reward: -19.00, Epsilon: 0.10\n"
     ]
    },
    {
     "name": "stderr",
     "output_type": "stream",
     "text": [
      "  2%|▏         | 3/150 [06:36<5:22:41, 131.71s/it]"
     ]
    },
    {
     "name": "stdout",
     "output_type": "stream",
     "text": [
      "Episode: 2, Reward: -20.00, Epsilon: 0.10\n",
      "Episode: 2, Reward: -16.00, Epsilon: 0.10\n",
      "Episode: 2, Reward: -20.00, Epsilon: 0.10\n",
      "Episode: 2, Reward: -21.00, Epsilon: 0.10\n",
      "Episode: 2, Reward: -17.00, Epsilon: 0.10\n",
      "Episode: 2, Reward: -20.00, Epsilon: 0.10\n",
      "Episode: 2, Reward: -12.00, Epsilon: 0.10\n",
      "Episode: 2, Reward: -18.00, Epsilon: 0.10\n"
     ]
    },
    {
     "name": "stderr",
     "output_type": "stream",
     "text": [
      "  3%|▎         | 4/150 [08:29<5:02:50, 124.45s/it]"
     ]
    },
    {
     "name": "stdout",
     "output_type": "stream",
     "text": [
      "Episode: 3, Reward: -15.00, Epsilon: 0.10\n",
      "Episode: 3, Reward: -19.00, Epsilon: 0.10\n",
      "Episode: 3, Reward: -16.00, Epsilon: 0.10\n",
      "Episode: 3, Reward: -21.00, Epsilon: 0.10\n",
      "Episode: 3, Reward: -21.00, Epsilon: 0.10\n",
      "Episode: 3, Reward: -16.00, Epsilon: 0.10\n",
      "Episode: 3, Reward: -15.00, Epsilon: 0.10\n",
      "Episode: 3, Reward: -19.00, Epsilon: 0.10\n"
     ]
    },
    {
     "name": "stderr",
     "output_type": "stream",
     "text": [
      "  3%|▎         | 5/150 [10:18<4:47:28, 118.95s/it]"
     ]
    },
    {
     "name": "stdout",
     "output_type": "stream",
     "text": [
      "Episode: 4, Reward: -21.00, Epsilon: 0.10\n",
      "Episode: 4, Reward: -19.00, Epsilon: 0.10\n",
      "Episode: 4, Reward: -21.00, Epsilon: 0.10\n",
      "Episode: 4, Reward: -19.00, Epsilon: 0.10\n",
      "Episode: 4, Reward: -21.00, Epsilon: 0.10\n",
      "Episode: 4, Reward: -21.00, Epsilon: 0.10\n",
      "Episode: 4, Reward: -16.00, Epsilon: 0.10\n",
      "Episode: 4, Reward: -21.00, Epsilon: 0.10\n"
     ]
    },
    {
     "name": "stderr",
     "output_type": "stream",
     "text": [
      "  4%|▍         | 6/150 [12:08<4:37:54, 115.79s/it]"
     ]
    },
    {
     "name": "stdout",
     "output_type": "stream",
     "text": [
      "Episode: 5, Reward: -21.00, Epsilon: 0.10\n",
      "Episode: 5, Reward: -20.00, Epsilon: 0.10\n",
      "Episode: 5, Reward: -16.00, Epsilon: 0.10\n",
      "Episode: 5, Reward: -16.00, Epsilon: 0.10\n",
      "Episode: 5, Reward: -18.00, Epsilon: 0.10\n",
      "Episode: 5, Reward: -17.00, Epsilon: 0.10\n",
      "Episode: 5, Reward: -16.00, Epsilon: 0.10\n",
      "Episode: 5, Reward: -16.00, Epsilon: 0.10\n"
     ]
    },
    {
     "name": "stderr",
     "output_type": "stream",
     "text": [
      "  5%|▍         | 7/150 [13:57<4:30:49, 113.63s/it]"
     ]
    },
    {
     "name": "stdout",
     "output_type": "stream",
     "text": [
      "Episode: 6, Reward: -21.00, Epsilon: 0.10\n",
      "Episode: 6, Reward: -14.00, Epsilon: 0.10\n",
      "Episode: 6, Reward: -20.00, Epsilon: 0.10\n",
      "Episode: 6, Reward: -19.00, Epsilon: 0.10\n",
      "Episode: 6, Reward: -20.00, Epsilon: 0.10\n",
      "Episode: 6, Reward: -20.00, Epsilon: 0.10\n",
      "Episode: 6, Reward: -20.00, Epsilon: 0.10\n",
      "Episode: 6, Reward: -20.00, Epsilon: 0.10\n"
     ]
    },
    {
     "name": "stderr",
     "output_type": "stream",
     "text": [
      "  5%|▌         | 8/150 [15:50<4:28:42, 113.54s/it]"
     ]
    },
    {
     "name": "stdout",
     "output_type": "stream",
     "text": [
      "Episode: 7, Reward: -18.00, Epsilon: 0.10\n",
      "Episode: 7, Reward: -14.00, Epsilon: 0.10\n",
      "Episode: 7, Reward: -18.00, Epsilon: 0.10\n",
      "Episode: 7, Reward: -21.00, Epsilon: 0.10\n",
      "Episode: 7, Reward: -18.00, Epsilon: 0.10\n",
      "Episode: 7, Reward: -14.00, Epsilon: 0.10\n",
      "Episode: 7, Reward: -18.00, Epsilon: 0.10\n",
      "Episode: 7, Reward: -15.00, Epsilon: 0.10\n"
     ]
    },
    {
     "name": "stderr",
     "output_type": "stream",
     "text": [
      "  6%|▌         | 9/150 [17:44<4:26:33, 113.43s/it]"
     ]
    },
    {
     "name": "stdout",
     "output_type": "stream",
     "text": [
      "Episode: 8, Reward: -18.00, Epsilon: 0.10\n",
      "Episode: 8, Reward: -18.00, Epsilon: 0.10\n",
      "Episode: 8, Reward: -12.00, Epsilon: 0.10\n",
      "Episode: 8, Reward: -16.00, Epsilon: 0.10\n",
      "Episode: 8, Reward: -11.00, Epsilon: 0.10\n",
      "Episode: 8, Reward: -18.00, Epsilon: 0.10\n",
      "Episode: 8, Reward: -21.00, Epsilon: 0.10\n",
      "Episode: 8, Reward: -18.00, Epsilon: 0.10\n"
     ]
    },
    {
     "name": "stderr",
     "output_type": "stream",
     "text": [
      "  7%|▋         | 10/150 [19:33<4:21:32, 112.09s/it]"
     ]
    },
    {
     "name": "stdout",
     "output_type": "stream",
     "text": [
      "Episode: 9, Reward: -18.00, Epsilon: 0.10\n",
      "Episode: 9, Reward: -20.00, Epsilon: 0.10\n",
      "Episode: 9, Reward: -16.00, Epsilon: 0.10\n",
      "Episode: 9, Reward: -21.00, Epsilon: 0.10\n",
      "Episode: 9, Reward: -17.00, Epsilon: 0.10\n",
      "Episode: 9, Reward: -20.00, Epsilon: 0.10\n",
      "Episode: 9, Reward: -20.00, Epsilon: 0.10\n",
      "Episode: 9, Reward: -21.00, Epsilon: 0.10\n"
     ]
    },
    {
     "name": "stderr",
     "output_type": "stream",
     "text": [
      "  7%|▋         | 11/150 [21:26<4:20:21, 112.38s/it]"
     ]
    },
    {
     "name": "stdout",
     "output_type": "stream",
     "text": [
      "Episode: 10, Reward: -20.00, Epsilon: 0.10\n",
      "Episode: 10, Reward: -20.00, Epsilon: 0.10\n",
      "Episode: 10, Reward: -20.00, Epsilon: 0.10\n",
      "Episode: 10, Reward: -20.00, Epsilon: 0.10\n",
      "Episode: 10, Reward: -21.00, Epsilon: 0.10\n",
      "Episode: 10, Reward: -20.00, Epsilon: 0.10\n",
      "Episode: 10, Reward: -18.00, Epsilon: 0.10\n",
      "Episode: 10, Reward: -18.00, Epsilon: 0.10\n"
     ]
    },
    {
     "name": "stderr",
     "output_type": "stream",
     "text": [
      "  8%|▊         | 12/150 [23:15<4:16:17, 111.43s/it]"
     ]
    },
    {
     "name": "stdout",
     "output_type": "stream",
     "text": [
      "Episode: 11, Reward: -21.00, Epsilon: 0.10\n",
      "Episode: 11, Reward: -19.00, Epsilon: 0.10\n",
      "Episode: 11, Reward: -19.00, Epsilon: 0.10\n",
      "Episode: 11, Reward: -19.00, Epsilon: 0.10\n",
      "Episode: 11, Reward: -18.00, Epsilon: 0.10\n",
      "Episode: 11, Reward: -19.00, Epsilon: 0.10\n",
      "Episode: 11, Reward: -19.00, Epsilon: 0.10\n",
      "Episode: 11, Reward: -20.00, Epsilon: 0.10\n"
     ]
    },
    {
     "name": "stderr",
     "output_type": "stream",
     "text": [
      "  9%|▊         | 13/150 [25:09<4:16:31, 112.35s/it]"
     ]
    },
    {
     "name": "stdout",
     "output_type": "stream",
     "text": [
      "Episode: 12, Reward: -19.00, Epsilon: 0.10\n",
      "Episode: 12, Reward: -18.00, Epsilon: 0.10\n",
      "Episode: 12, Reward: -21.00, Epsilon: 0.10\n",
      "Episode: 12, Reward: -18.00, Epsilon: 0.10\n",
      "Episode: 12, Reward: -17.00, Epsilon: 0.10\n",
      "Episode: 12, Reward: -17.00, Epsilon: 0.10\n",
      "Episode: 12, Reward: -18.00, Epsilon: 0.10\n",
      "Episode: 12, Reward: -21.00, Epsilon: 0.10\n"
     ]
    },
    {
     "name": "stderr",
     "output_type": "stream",
     "text": [
      "  9%|▉         | 14/150 [27:07<4:18:22, 113.99s/it]"
     ]
    },
    {
     "name": "stdout",
     "output_type": "stream",
     "text": [
      "Episode: 13, Reward: -17.00, Epsilon: 0.10\n",
      "Episode: 13, Reward: -21.00, Epsilon: 0.10\n",
      "Episode: 13, Reward: -18.00, Epsilon: 0.10\n",
      "Episode: 13, Reward: -19.00, Epsilon: 0.10\n",
      "Episode: 13, Reward: -19.00, Epsilon: 0.10\n",
      "Episode: 13, Reward: -16.00, Epsilon: 0.10\n",
      "Episode: 13, Reward: -18.00, Epsilon: 0.10\n",
      "Episode: 13, Reward: -20.00, Epsilon: 0.10\n"
     ]
    },
    {
     "name": "stderr",
     "output_type": "stream",
     "text": [
      " 10%|█         | 15/150 [29:05<4:18:53, 115.06s/it]"
     ]
    },
    {
     "name": "stdout",
     "output_type": "stream",
     "text": [
      "Episode: 14, Reward: -20.00, Epsilon: 0.10\n",
      "Episode: 14, Reward: -20.00, Epsilon: 0.10\n",
      "Episode: 14, Reward: -20.00, Epsilon: 0.10\n",
      "Episode: 14, Reward: -20.00, Epsilon: 0.10\n",
      "Episode: 14, Reward: -20.00, Epsilon: 0.10\n",
      "Episode: 14, Reward: -17.00, Epsilon: 0.10\n",
      "Episode: 14, Reward: -21.00, Epsilon: 0.10\n",
      "Episode: 14, Reward: -20.00, Epsilon: 0.10\n"
     ]
    },
    {
     "name": "stderr",
     "output_type": "stream",
     "text": [
      " 11%|█         | 16/150 [30:56<4:14:39, 114.03s/it]"
     ]
    },
    {
     "name": "stdout",
     "output_type": "stream",
     "text": [
      "Episode: 15, Reward: -20.00, Epsilon: 0.10\n",
      "Episode: 15, Reward: -21.00, Epsilon: 0.10\n",
      "Episode: 15, Reward: -17.00, Epsilon: 0.10\n",
      "Episode: 15, Reward: -18.00, Epsilon: 0.10\n",
      "Episode: 15, Reward: -20.00, Epsilon: 0.10\n",
      "Episode: 15, Reward: -20.00, Epsilon: 0.10\n",
      "Episode: 15, Reward: -17.00, Epsilon: 0.10\n",
      "Episode: 15, Reward: -17.00, Epsilon: 0.10\n"
     ]
    },
    {
     "name": "stderr",
     "output_type": "stream",
     "text": [
      " 11%|█▏        | 17/150 [32:50<4:12:16, 113.81s/it]"
     ]
    },
    {
     "name": "stdout",
     "output_type": "stream",
     "text": [
      "Episode: 16, Reward: -19.00, Epsilon: 0.10\n",
      "Episode: 16, Reward: -21.00, Epsilon: 0.10\n",
      "Episode: 16, Reward: -19.00, Epsilon: 0.10\n",
      "Episode: 16, Reward: -16.00, Epsilon: 0.10\n",
      "Episode: 16, Reward: -17.00, Epsilon: 0.10\n",
      "Episode: 16, Reward: -20.00, Epsilon: 0.10\n",
      "Episode: 16, Reward: -14.00, Epsilon: 0.10\n",
      "Episode: 16, Reward: -19.00, Epsilon: 0.10\n"
     ]
    },
    {
     "name": "stderr",
     "output_type": "stream",
     "text": [
      " 12%|█▏        | 18/150 [34:40<4:08:16, 112.85s/it]"
     ]
    },
    {
     "name": "stdout",
     "output_type": "stream",
     "text": [
      "Episode: 17, Reward: -21.00, Epsilon: 0.10\n",
      "Episode: 17, Reward: -21.00, Epsilon: 0.10\n",
      "Episode: 17, Reward: -21.00, Epsilon: 0.10\n",
      "Episode: 17, Reward: -21.00, Epsilon: 0.10\n",
      "Episode: 17, Reward: -21.00, Epsilon: 0.10\n",
      "Episode: 17, Reward: -21.00, Epsilon: 0.10\n",
      "Episode: 17, Reward: -21.00, Epsilon: 0.10\n",
      "Episode: 17, Reward: -21.00, Epsilon: 0.10\n"
     ]
    },
    {
     "name": "stderr",
     "output_type": "stream",
     "text": [
      " 13%|█▎        | 19/150 [36:30<4:04:02, 111.78s/it]"
     ]
    },
    {
     "name": "stdout",
     "output_type": "stream",
     "text": [
      "Episode: 18, Reward: -21.00, Epsilon: 0.10\n",
      "Episode: 18, Reward: -21.00, Epsilon: 0.10\n",
      "Episode: 18, Reward: -21.00, Epsilon: 0.10\n",
      "Episode: 18, Reward: -21.00, Epsilon: 0.10\n",
      "Episode: 18, Reward: -21.00, Epsilon: 0.10\n",
      "Episode: 18, Reward: -21.00, Epsilon: 0.10\n",
      "Episode: 18, Reward: -21.00, Epsilon: 0.10\n",
      "Episode: 18, Reward: -21.00, Epsilon: 0.10\n"
     ]
    },
    {
     "name": "stderr",
     "output_type": "stream",
     "text": [
      " 13%|█▎        | 20/150 [38:19<4:00:22, 110.94s/it]"
     ]
    },
    {
     "name": "stdout",
     "output_type": "stream",
     "text": [
      "Episode: 19, Reward: -21.00, Epsilon: 0.10\n",
      "Episode: 19, Reward: -21.00, Epsilon: 0.10\n",
      "Episode: 19, Reward: -21.00, Epsilon: 0.10\n",
      "Episode: 19, Reward: -21.00, Epsilon: 0.10\n",
      "Episode: 19, Reward: -21.00, Epsilon: 0.10\n",
      "Episode: 19, Reward: -21.00, Epsilon: 0.10\n",
      "Episode: 19, Reward: -21.00, Epsilon: 0.10\n",
      "Episode: 19, Reward: -21.00, Epsilon: 0.10\n"
     ]
    },
    {
     "name": "stderr",
     "output_type": "stream",
     "text": [
      " 14%|█▍        | 21/150 [40:08<3:57:34, 110.50s/it]"
     ]
    },
    {
     "name": "stdout",
     "output_type": "stream",
     "text": [
      "Episode: 20, Reward: -21.00, Epsilon: 0.10\n",
      "Episode: 20, Reward: -17.00, Epsilon: 0.10\n",
      "Episode: 20, Reward: -20.00, Epsilon: 0.10\n",
      "Episode: 20, Reward: -21.00, Epsilon: 0.10\n",
      "Episode: 20, Reward: -19.00, Epsilon: 0.10\n",
      "Episode: 20, Reward: -17.00, Epsilon: 0.10\n",
      "Episode: 20, Reward: -20.00, Epsilon: 0.10\n",
      "Episode: 20, Reward: -21.00, Epsilon: 0.10\n"
     ]
    },
    {
     "name": "stderr",
     "output_type": "stream",
     "text": [
      " 15%|█▍        | 22/150 [41:57<3:54:38, 109.99s/it]"
     ]
    },
    {
     "name": "stdout",
     "output_type": "stream",
     "text": [
      "Episode: 21, Reward: -18.00, Epsilon: 0.10\n",
      "Episode: 21, Reward: -21.00, Epsilon: 0.10\n",
      "Episode: 21, Reward: -20.00, Epsilon: 0.10\n",
      "Episode: 21, Reward: -18.00, Epsilon: 0.10\n",
      "Episode: 21, Reward: -20.00, Epsilon: 0.10\n",
      "Episode: 21, Reward: -18.00, Epsilon: 0.10\n",
      "Episode: 21, Reward: -21.00, Epsilon: 0.10\n",
      "Episode: 21, Reward: -20.00, Epsilon: 0.10\n"
     ]
    },
    {
     "name": "stderr",
     "output_type": "stream",
     "text": [
      " 15%|█▌        | 23/150 [43:57<3:58:59, 112.91s/it]"
     ]
    },
    {
     "name": "stdout",
     "output_type": "stream",
     "text": [
      "Episode: 22, Reward: -19.00, Epsilon: 0.10\n",
      "Episode: 22, Reward: -20.00, Epsilon: 0.10\n",
      "Episode: 22, Reward: -20.00, Epsilon: 0.10\n",
      "Episode: 22, Reward: -15.00, Epsilon: 0.10\n",
      "Episode: 22, Reward: -17.00, Epsilon: 0.10\n",
      "Episode: 22, Reward: -20.00, Epsilon: 0.10\n",
      "Episode: 22, Reward: -14.00, Epsilon: 0.10\n",
      "Episode: 22, Reward: -20.00, Epsilon: 0.10\n"
     ]
    },
    {
     "name": "stderr",
     "output_type": "stream",
     "text": [
      " 16%|█▌        | 24/150 [45:54<4:00:02, 114.30s/it]"
     ]
    },
    {
     "name": "stdout",
     "output_type": "stream",
     "text": [
      "Episode: 23, Reward: -19.00, Epsilon: 0.10\n",
      "Episode: 23, Reward: -19.00, Epsilon: 0.10\n",
      "Episode: 23, Reward: -19.00, Epsilon: 0.10\n",
      "Episode: 23, Reward: -19.00, Epsilon: 0.10\n",
      "Episode: 23, Reward: -18.00, Epsilon: 0.10\n",
      "Episode: 23, Reward: -18.00, Epsilon: 0.10\n",
      "Episode: 23, Reward: -19.00, Epsilon: 0.10\n",
      "Episode: 23, Reward: -21.00, Epsilon: 0.10\n"
     ]
    },
    {
     "name": "stderr",
     "output_type": "stream",
     "text": [
      " 17%|█▋        | 25/150 [47:43<3:54:50, 112.72s/it]"
     ]
    },
    {
     "name": "stdout",
     "output_type": "stream",
     "text": [
      "Episode: 24, Reward: -21.00, Epsilon: 0.10\n",
      "Episode: 24, Reward: -21.00, Epsilon: 0.10\n",
      "Episode: 24, Reward: -21.00, Epsilon: 0.10\n",
      "Episode: 24, Reward: -21.00, Epsilon: 0.10\n",
      "Episode: 24, Reward: -21.00, Epsilon: 0.10\n",
      "Episode: 24, Reward: -21.00, Epsilon: 0.10\n",
      "Episode: 24, Reward: -21.00, Epsilon: 0.10\n",
      "Episode: 24, Reward: -21.00, Epsilon: 0.10\n"
     ]
    },
    {
     "name": "stderr",
     "output_type": "stream",
     "text": [
      " 17%|█▋        | 26/150 [49:32<3:50:51, 111.71s/it]"
     ]
    },
    {
     "name": "stdout",
     "output_type": "stream",
     "text": [
      "Episode: 25, Reward: -21.00, Epsilon: 0.10\n",
      "Episode: 25, Reward: -21.00, Epsilon: 0.10\n",
      "Episode: 25, Reward: -21.00, Epsilon: 0.10\n",
      "Episode: 25, Reward: -21.00, Epsilon: 0.10\n",
      "Episode: 25, Reward: -21.00, Epsilon: 0.10\n",
      "Episode: 25, Reward: -21.00, Epsilon: 0.10\n",
      "Episode: 25, Reward: -21.00, Epsilon: 0.10\n",
      "Episode: 25, Reward: -21.00, Epsilon: 0.10\n"
     ]
    },
    {
     "name": "stderr",
     "output_type": "stream",
     "text": [
      " 18%|█▊        | 27/150 [51:30<3:52:36, 113.47s/it]"
     ]
    },
    {
     "name": "stdout",
     "output_type": "stream",
     "text": [
      "Episode: 26, Reward: -16.00, Epsilon: 0.10\n",
      "Episode: 26, Reward: -17.00, Epsilon: 0.10\n",
      "Episode: 26, Reward: -19.00, Epsilon: 0.10\n",
      "Episode: 26, Reward: -19.00, Epsilon: 0.10\n",
      "Episode: 26, Reward: -19.00, Epsilon: 0.10\n",
      "Episode: 26, Reward: -15.00, Epsilon: 0.10\n",
      "Episode: 26, Reward: -21.00, Epsilon: 0.10\n",
      "Episode: 26, Reward: -18.00, Epsilon: 0.10\n"
     ]
    },
    {
     "name": "stderr",
     "output_type": "stream",
     "text": [
      " 19%|█▊        | 28/150 [53:22<3:49:33, 112.90s/it]"
     ]
    },
    {
     "name": "stdout",
     "output_type": "stream",
     "text": [
      "Episode: 27, Reward: -17.00, Epsilon: 0.10\n",
      "Episode: 27, Reward: -17.00, Epsilon: 0.10\n",
      "Episode: 27, Reward: -18.00, Epsilon: 0.10\n",
      "Episode: 27, Reward: -20.00, Epsilon: 0.10\n",
      "Episode: 27, Reward: -21.00, Epsilon: 0.10\n",
      "Episode: 27, Reward: -17.00, Epsilon: 0.10\n",
      "Episode: 27, Reward: -21.00, Epsilon: 0.10\n",
      "Episode: 27, Reward: -18.00, Epsilon: 0.10\n"
     ]
    },
    {
     "name": "stderr",
     "output_type": "stream",
     "text": [
      " 19%|█▉        | 29/150 [55:11<3:45:18, 111.72s/it]"
     ]
    },
    {
     "name": "stdout",
     "output_type": "stream",
     "text": [
      "Episode: 28, Reward: -21.00, Epsilon: 0.10\n",
      "Episode: 28, Reward: -19.00, Epsilon: 0.10\n",
      "Episode: 28, Reward: -19.00, Epsilon: 0.10\n",
      "Episode: 28, Reward: -20.00, Epsilon: 0.10\n",
      "Episode: 28, Reward: -19.00, Epsilon: 0.10\n",
      "Episode: 28, Reward: -17.00, Epsilon: 0.10\n",
      "Episode: 28, Reward: -20.00, Epsilon: 0.10\n",
      "Episode: 28, Reward: -19.00, Epsilon: 0.10\n"
     ]
    },
    {
     "name": "stderr",
     "output_type": "stream",
     "text": [
      " 20%|██        | 30/150 [57:00<3:42:12, 111.10s/it]"
     ]
    },
    {
     "name": "stdout",
     "output_type": "stream",
     "text": [
      "Episode: 29, Reward: -21.00, Epsilon: 0.10\n",
      "Episode: 29, Reward: -19.00, Epsilon: 0.10\n",
      "Episode: 29, Reward: -21.00, Epsilon: 0.10\n",
      "Episode: 29, Reward: -21.00, Epsilon: 0.10\n",
      "Episode: 29, Reward: -21.00, Epsilon: 0.10\n",
      "Episode: 29, Reward: -20.00, Epsilon: 0.10\n",
      "Episode: 29, Reward: -21.00, Epsilon: 0.10\n",
      "Episode: 29, Reward: -17.00, Epsilon: 0.10\n"
     ]
    },
    {
     "name": "stderr",
     "output_type": "stream",
     "text": [
      " 21%|██        | 31/150 [58:50<3:39:32, 110.69s/it]"
     ]
    },
    {
     "name": "stdout",
     "output_type": "stream",
     "text": [
      "Episode: 30, Reward: -20.00, Epsilon: 0.10\n",
      "Episode: 30, Reward: -20.00, Epsilon: 0.10\n",
      "Episode: 30, Reward: -17.00, Epsilon: 0.10\n",
      "Episode: 30, Reward: -17.00, Epsilon: 0.10\n",
      "Episode: 30, Reward: -17.00, Epsilon: 0.10\n",
      "Episode: 30, Reward: -19.00, Epsilon: 0.10\n",
      "Episode: 30, Reward: -19.00, Epsilon: 0.10\n",
      "Episode: 30, Reward: -21.00, Epsilon: 0.10\n"
     ]
    },
    {
     "name": "stderr",
     "output_type": "stream",
     "text": [
      " 21%|██▏       | 32/150 [1:01:00<3:49:02, 116.46s/it]"
     ]
    },
    {
     "name": "stdout",
     "output_type": "stream",
     "text": [
      "Episode: 31, Reward: -21.00, Epsilon: 0.10\n",
      "Episode: 31, Reward: -20.00, Epsilon: 0.10\n",
      "Episode: 31, Reward: -21.00, Epsilon: 0.10\n",
      "Episode: 31, Reward: -20.00, Epsilon: 0.10\n",
      "Episode: 31, Reward: -20.00, Epsilon: 0.10\n",
      "Episode: 31, Reward: -16.00, Epsilon: 0.10\n",
      "Episode: 31, Reward: -20.00, Epsilon: 0.10\n",
      "Episode: 31, Reward: -20.00, Epsilon: 0.10\n"
     ]
    },
    {
     "name": "stderr",
     "output_type": "stream",
     "text": [
      " 22%|██▏       | 33/150 [1:02:59<3:48:23, 117.12s/it]"
     ]
    },
    {
     "name": "stdout",
     "output_type": "stream",
     "text": [
      "Episode: 32, Reward: -21.00, Epsilon: 0.10\n",
      "Episode: 32, Reward: -18.00, Epsilon: 0.10\n",
      "Episode: 32, Reward: -18.00, Epsilon: 0.10\n",
      "Episode: 32, Reward: -18.00, Epsilon: 0.10\n",
      "Episode: 32, Reward: -18.00, Epsilon: 0.10\n",
      "Episode: 32, Reward: -18.00, Epsilon: 0.10\n",
      "Episode: 32, Reward: -21.00, Epsilon: 0.10\n",
      "Episode: 32, Reward: -18.00, Epsilon: 0.10\n"
     ]
    },
    {
     "name": "stderr",
     "output_type": "stream",
     "text": [
      " 23%|██▎       | 34/150 [1:04:52<3:44:30, 116.13s/it]"
     ]
    },
    {
     "name": "stdout",
     "output_type": "stream",
     "text": [
      "Episode: 33, Reward: -16.00, Epsilon: 0.10\n",
      "Episode: 33, Reward: -18.00, Epsilon: 0.10\n",
      "Episode: 33, Reward: -21.00, Epsilon: 0.10\n",
      "Episode: 33, Reward: -16.00, Epsilon: 0.10\n",
      "Episode: 33, Reward: -21.00, Epsilon: 0.10\n",
      "Episode: 33, Reward: -18.00, Epsilon: 0.10\n",
      "Episode: 33, Reward: -16.00, Epsilon: 0.10\n",
      "Episode: 33, Reward: -18.00, Epsilon: 0.10\n"
     ]
    },
    {
     "name": "stderr",
     "output_type": "stream",
     "text": [
      " 23%|██▎       | 35/150 [1:06:50<3:43:38, 116.68s/it]"
     ]
    },
    {
     "name": "stdout",
     "output_type": "stream",
     "text": [
      "Episode: 34, Reward: -19.00, Epsilon: 0.10\n",
      "Episode: 34, Reward: -19.00, Epsilon: 0.10\n",
      "Episode: 34, Reward: -17.00, Epsilon: 0.10\n",
      "Episode: 34, Reward: -21.00, Epsilon: 0.10\n",
      "Episode: 34, Reward: -21.00, Epsilon: 0.10\n",
      "Episode: 34, Reward: -20.00, Epsilon: 0.10\n",
      "Episode: 34, Reward: -20.00, Epsilon: 0.10\n",
      "Episode: 34, Reward: -19.00, Epsilon: 0.10\n"
     ]
    },
    {
     "name": "stderr",
     "output_type": "stream",
     "text": [
      " 24%|██▍       | 36/150 [1:08:40<3:37:38, 114.55s/it]"
     ]
    },
    {
     "name": "stdout",
     "output_type": "stream",
     "text": [
      "Episode: 35, Reward: -21.00, Epsilon: 0.10\n",
      "Episode: 35, Reward: -21.00, Epsilon: 0.10\n",
      "Episode: 35, Reward: -21.00, Epsilon: 0.10\n",
      "Episode: 35, Reward: -21.00, Epsilon: 0.10\n",
      "Episode: 35, Reward: -21.00, Epsilon: 0.10\n",
      "Episode: 35, Reward: -21.00, Epsilon: 0.10\n",
      "Episode: 35, Reward: -21.00, Epsilon: 0.10\n",
      "Episode: 35, Reward: -21.00, Epsilon: 0.10\n"
     ]
    },
    {
     "name": "stderr",
     "output_type": "stream",
     "text": [
      " 25%|██▍       | 37/150 [1:10:30<3:33:02, 113.12s/it]"
     ]
    },
    {
     "name": "stdout",
     "output_type": "stream",
     "text": [
      "Episode: 36, Reward: -19.00, Epsilon: 0.10\n",
      "Episode: 36, Reward: -19.00, Epsilon: 0.10\n",
      "Episode: 36, Reward: -21.00, Epsilon: 0.10\n",
      "Episode: 36, Reward: -16.00, Epsilon: 0.10\n",
      "Episode: 36, Reward: -21.00, Epsilon: 0.10\n",
      "Episode: 36, Reward: -21.00, Epsilon: 0.10\n",
      "Episode: 36, Reward: -20.00, Epsilon: 0.10\n",
      "Episode: 36, Reward: -19.00, Epsilon: 0.10\n"
     ]
    },
    {
     "name": "stderr",
     "output_type": "stream",
     "text": [
      " 25%|██▌       | 38/150 [1:12:24<3:31:40, 113.40s/it]"
     ]
    },
    {
     "name": "stdout",
     "output_type": "stream",
     "text": [
      "Episode: 37, Reward: -19.00, Epsilon: 0.10\n",
      "Episode: 37, Reward: -20.00, Epsilon: 0.10\n",
      "Episode: 37, Reward: -20.00, Epsilon: 0.10\n",
      "Episode: 37, Reward: -20.00, Epsilon: 0.10\n",
      "Episode: 37, Reward: -19.00, Epsilon: 0.10\n",
      "Episode: 37, Reward: -21.00, Epsilon: 0.10\n",
      "Episode: 37, Reward: -20.00, Epsilon: 0.10\n",
      "Episode: 37, Reward: -18.00, Epsilon: 0.10\n"
     ]
    },
    {
     "name": "stderr",
     "output_type": "stream",
     "text": [
      " 26%|██▌       | 39/150 [1:14:22<3:32:32, 114.89s/it]"
     ]
    },
    {
     "name": "stdout",
     "output_type": "stream",
     "text": [
      "Episode: 38, Reward: -20.00, Epsilon: 0.10\n",
      "Episode: 38, Reward: -21.00, Epsilon: 0.10\n",
      "Episode: 38, Reward: -15.00, Epsilon: 0.10\n",
      "Episode: 38, Reward: -19.00, Epsilon: 0.10\n",
      "Episode: 38, Reward: -21.00, Epsilon: 0.10\n",
      "Episode: 38, Reward: -19.00, Epsilon: 0.10\n",
      "Episode: 38, Reward: -19.00, Epsilon: 0.10\n",
      "Episode: 38, Reward: -21.00, Epsilon: 0.10\n"
     ]
    },
    {
     "name": "stderr",
     "output_type": "stream",
     "text": [
      " 27%|██▋       | 40/150 [1:16:12<3:27:54, 113.40s/it]"
     ]
    },
    {
     "name": "stdout",
     "output_type": "stream",
     "text": [
      "Episode: 39, Reward: -21.00, Epsilon: 0.10\n",
      "Episode: 39, Reward: -15.00, Epsilon: 0.10\n",
      "Episode: 39, Reward: -19.00, Epsilon: 0.10\n",
      "Episode: 39, Reward: -17.00, Epsilon: 0.10\n",
      "Episode: 39, Reward: -19.00, Epsilon: 0.10\n",
      "Episode: 39, Reward: -16.00, Epsilon: 0.10\n",
      "Episode: 39, Reward: -15.00, Epsilon: 0.10\n",
      "Episode: 39, Reward: -17.00, Epsilon: 0.10\n"
     ]
    },
    {
     "name": "stderr",
     "output_type": "stream",
     "text": [
      " 27%|██▋       | 41/150 [1:18:04<3:25:23, 113.06s/it]"
     ]
    },
    {
     "name": "stdout",
     "output_type": "stream",
     "text": [
      "Episode: 40, Reward: -21.00, Epsilon: 0.10\n",
      "Episode: 40, Reward: -20.00, Epsilon: 0.10\n",
      "Episode: 40, Reward: -20.00, Epsilon: 0.10\n",
      "Episode: 40, Reward: -18.00, Epsilon: 0.10\n",
      "Episode: 40, Reward: -20.00, Epsilon: 0.10\n",
      "Episode: 40, Reward: -18.00, Epsilon: 0.10\n",
      "Episode: 40, Reward: -17.00, Epsilon: 0.10\n",
      "Episode: 40, Reward: -20.00, Epsilon: 0.10\n"
     ]
    },
    {
     "name": "stderr",
     "output_type": "stream",
     "text": [
      " 28%|██▊       | 42/150 [1:20:03<3:26:28, 114.71s/it]"
     ]
    },
    {
     "name": "stdout",
     "output_type": "stream",
     "text": [
      "Episode: 41, Reward: -21.00, Epsilon: 0.10\n",
      "Episode: 41, Reward: -21.00, Epsilon: 0.10\n",
      "Episode: 41, Reward: -20.00, Epsilon: 0.10\n",
      "Episode: 41, Reward: -20.00, Epsilon: 0.10\n",
      "Episode: 41, Reward: -19.00, Epsilon: 0.10\n",
      "Episode: 41, Reward: -19.00, Epsilon: 0.10\n",
      "Episode: 41, Reward: -21.00, Epsilon: 0.10\n",
      "Episode: 41, Reward: -20.00, Epsilon: 0.10\n"
     ]
    },
    {
     "name": "stderr",
     "output_type": "stream",
     "text": [
      " 29%|██▊       | 43/150 [1:21:53<3:22:02, 113.30s/it]"
     ]
    },
    {
     "name": "stdout",
     "output_type": "stream",
     "text": [
      "Episode: 42, Reward: -21.00, Epsilon: 0.10\n",
      "Episode: 42, Reward: -21.00, Epsilon: 0.10\n",
      "Episode: 42, Reward: -21.00, Epsilon: 0.10\n",
      "Episode: 42, Reward: -21.00, Epsilon: 0.10\n",
      "Episode: 42, Reward: -21.00, Epsilon: 0.10\n",
      "Episode: 42, Reward: -21.00, Epsilon: 0.10\n",
      "Episode: 42, Reward: -21.00, Epsilon: 0.10\n",
      "Episode: 42, Reward: -21.00, Epsilon: 0.10\n"
     ]
    },
    {
     "name": "stderr",
     "output_type": "stream",
     "text": [
      " 29%|██▉       | 44/150 [1:23:43<3:18:17, 112.24s/it]"
     ]
    },
    {
     "name": "stdout",
     "output_type": "stream",
     "text": [
      "Episode: 43, Reward: -21.00, Epsilon: 0.10\n",
      "Episode: 43, Reward: -21.00, Epsilon: 0.10\n",
      "Episode: 43, Reward: -18.00, Epsilon: 0.10\n",
      "Episode: 43, Reward: -21.00, Epsilon: 0.10\n",
      "Episode: 43, Reward: -21.00, Epsilon: 0.10\n",
      "Episode: 43, Reward: -21.00, Epsilon: 0.10\n",
      "Episode: 43, Reward: -20.00, Epsilon: 0.10\n",
      "Episode: 43, Reward: -19.00, Epsilon: 0.10\n"
     ]
    },
    {
     "name": "stderr",
     "output_type": "stream",
     "text": [
      " 30%|███       | 45/150 [1:25:37<3:17:15, 112.72s/it]"
     ]
    },
    {
     "name": "stdout",
     "output_type": "stream",
     "text": [
      "Episode: 44, Reward: -21.00, Epsilon: 0.10\n",
      "Episode: 44, Reward: -21.00, Epsilon: 0.10\n",
      "Episode: 44, Reward: -20.00, Epsilon: 0.10\n",
      "Episode: 44, Reward: -20.00, Epsilon: 0.10\n",
      "Episode: 44, Reward: -20.00, Epsilon: 0.10\n",
      "Episode: 44, Reward: -20.00, Epsilon: 0.10\n",
      "Episode: 44, Reward: -18.00, Epsilon: 0.10\n",
      "Episode: 44, Reward: -21.00, Epsilon: 0.10\n"
     ]
    },
    {
     "name": "stderr",
     "output_type": "stream",
     "text": [
      " 31%|███       | 46/150 [1:27:35<3:18:18, 114.41s/it]"
     ]
    },
    {
     "name": "stdout",
     "output_type": "stream",
     "text": [
      "Episode: 45, Reward: -21.00, Epsilon: 0.10\n",
      "Episode: 45, Reward: -20.00, Epsilon: 0.10\n",
      "Episode: 45, Reward: -20.00, Epsilon: 0.10\n",
      "Episode: 45, Reward: -21.00, Epsilon: 0.10\n",
      "Episode: 45, Reward: -20.00, Epsilon: 0.10\n",
      "Episode: 45, Reward: -20.00, Epsilon: 0.10\n",
      "Episode: 45, Reward: -21.00, Epsilon: 0.10\n",
      "Episode: 45, Reward: -20.00, Epsilon: 0.10\n"
     ]
    },
    {
     "name": "stderr",
     "output_type": "stream",
     "text": [
      " 31%|███▏      | 47/150 [1:29:25<3:13:59, 113.01s/it]"
     ]
    },
    {
     "name": "stdout",
     "output_type": "stream",
     "text": [
      "Episode: 46, Reward: -19.00, Epsilon: 0.10\n",
      "Episode: 46, Reward: -21.00, Epsilon: 0.10\n",
      "Episode: 46, Reward: -21.00, Epsilon: 0.10\n",
      "Episode: 46, Reward: -19.00, Epsilon: 0.10\n",
      "Episode: 46, Reward: -19.00, Epsilon: 0.10\n",
      "Episode: 46, Reward: -21.00, Epsilon: 0.10\n",
      "Episode: 46, Reward: -19.00, Epsilon: 0.10\n",
      "Episode: 46, Reward: -19.00, Epsilon: 0.10\n"
     ]
    },
    {
     "name": "stderr",
     "output_type": "stream",
     "text": [
      " 32%|███▏      | 48/150 [1:31:14<3:10:25, 112.01s/it]"
     ]
    },
    {
     "name": "stdout",
     "output_type": "stream",
     "text": [
      "Episode: 47, Reward: -21.00, Epsilon: 0.10\n",
      "Episode: 47, Reward: -19.00, Epsilon: 0.10\n",
      "Episode: 47, Reward: -16.00, Epsilon: 0.10\n",
      "Episode: 47, Reward: -19.00, Epsilon: 0.10\n",
      "Episode: 47, Reward: -18.00, Epsilon: 0.10\n",
      "Episode: 47, Reward: -15.00, Epsilon: 0.10\n",
      "Episode: 47, Reward: -19.00, Epsilon: 0.10\n",
      "Episode: 47, Reward: -21.00, Epsilon: 0.10\n"
     ]
    },
    {
     "name": "stderr",
     "output_type": "stream",
     "text": [
      " 33%|███▎      | 49/150 [1:33:05<3:07:43, 111.52s/it]"
     ]
    },
    {
     "name": "stdout",
     "output_type": "stream",
     "text": [
      "Episode: 48, Reward: -19.00, Epsilon: 0.10\n",
      "Episode: 48, Reward: -15.00, Epsilon: 0.10\n",
      "Episode: 48, Reward: -17.00, Epsilon: 0.10\n",
      "Episode: 48, Reward: -16.00, Epsilon: 0.10\n",
      "Episode: 48, Reward: -17.00, Epsilon: 0.10\n",
      "Episode: 48, Reward: -19.00, Epsilon: 0.10\n",
      "Episode: 48, Reward: -21.00, Epsilon: 0.10\n",
      "Episode: 48, Reward: -19.00, Epsilon: 0.10\n"
     ]
    },
    {
     "name": "stderr",
     "output_type": "stream",
     "text": [
      " 33%|███▎      | 50/150 [1:34:55<3:05:08, 111.08s/it]"
     ]
    },
    {
     "name": "stdout",
     "output_type": "stream",
     "text": [
      "Episode: 49, Reward: -20.00, Epsilon: 0.10\n",
      "Episode: 49, Reward: -21.00, Epsilon: 0.10\n",
      "Episode: 49, Reward: -21.00, Epsilon: 0.10\n",
      "Episode: 49, Reward: -20.00, Epsilon: 0.10\n",
      "Episode: 49, Reward: -19.00, Epsilon: 0.10\n",
      "Episode: 49, Reward: -19.00, Epsilon: 0.10\n",
      "Episode: 49, Reward: -19.00, Epsilon: 0.10\n",
      "Episode: 49, Reward: -21.00, Epsilon: 0.10\n"
     ]
    },
    {
     "name": "stderr",
     "output_type": "stream",
     "text": [
      " 34%|███▍      | 51/150 [1:36:44<3:02:22, 110.53s/it]"
     ]
    },
    {
     "name": "stdout",
     "output_type": "stream",
     "text": [
      "Episode: 50, Reward: -21.00, Epsilon: 0.10\n",
      "Episode: 50, Reward: -21.00, Epsilon: 0.10\n",
      "Episode: 50, Reward: -21.00, Epsilon: 0.10\n",
      "Episode: 50, Reward: -21.00, Epsilon: 0.10\n",
      "Episode: 50, Reward: -21.00, Epsilon: 0.10\n",
      "Episode: 50, Reward: -21.00, Epsilon: 0.10\n",
      "Episode: 50, Reward: -21.00, Epsilon: 0.10\n",
      "Episode: 50, Reward: -21.00, Epsilon: 0.10\n"
     ]
    },
    {
     "name": "stderr",
     "output_type": "stream",
     "text": [
      " 35%|███▍      | 52/150 [1:38:43<3:04:38, 113.04s/it]"
     ]
    },
    {
     "name": "stdout",
     "output_type": "stream",
     "text": [
      "Episode: 51, Reward: -21.00, Epsilon: 0.10\n",
      "Episode: 51, Reward: -21.00, Epsilon: 0.10\n",
      "Episode: 51, Reward: -17.00, Epsilon: 0.10\n",
      "Episode: 51, Reward: -17.00, Epsilon: 0.10\n",
      "Episode: 51, Reward: -21.00, Epsilon: 0.10\n",
      "Episode: 51, Reward: -21.00, Epsilon: 0.10\n",
      "Episode: 51, Reward: -17.00, Epsilon: 0.10\n",
      "Episode: 51, Reward: -17.00, Epsilon: 0.10\n"
     ]
    },
    {
     "name": "stderr",
     "output_type": "stream",
     "text": [
      " 35%|███▌      | 53/150 [1:40:32<3:01:02, 111.98s/it]"
     ]
    },
    {
     "name": "stdout",
     "output_type": "stream",
     "text": [
      "Episode: 52, Reward: -21.00, Epsilon: 0.10\n",
      "Episode: 52, Reward: -21.00, Epsilon: 0.10\n",
      "Episode: 52, Reward: -21.00, Epsilon: 0.10\n",
      "Episode: 52, Reward: -21.00, Epsilon: 0.10\n",
      "Episode: 52, Reward: -21.00, Epsilon: 0.10\n",
      "Episode: 52, Reward: -21.00, Epsilon: 0.10\n",
      "Episode: 52, Reward: -21.00, Epsilon: 0.10\n",
      "Episode: 52, Reward: -21.00, Epsilon: 0.10\n"
     ]
    },
    {
     "name": "stderr",
     "output_type": "stream",
     "text": [
      " 36%|███▌      | 54/150 [1:42:22<2:57:50, 111.16s/it]"
     ]
    },
    {
     "name": "stdout",
     "output_type": "stream",
     "text": [
      "Episode: 53, Reward: -21.00, Epsilon: 0.10\n",
      "Episode: 53, Reward: -21.00, Epsilon: 0.10\n",
      "Episode: 53, Reward: -21.00, Epsilon: 0.10\n",
      "Episode: 53, Reward: -21.00, Epsilon: 0.10\n",
      "Episode: 53, Reward: -19.00, Epsilon: 0.10\n",
      "Episode: 53, Reward: -21.00, Epsilon: 0.10\n",
      "Episode: 53, Reward: -21.00, Epsilon: 0.10\n",
      "Episode: 53, Reward: -21.00, Epsilon: 0.10\n"
     ]
    },
    {
     "name": "stderr",
     "output_type": "stream",
     "text": [
      " 37%|███▋      | 55/150 [1:44:11<2:55:08, 110.62s/it]"
     ]
    },
    {
     "name": "stdout",
     "output_type": "stream",
     "text": [
      "Episode: 54, Reward: -21.00, Epsilon: 0.10\n",
      "Episode: 54, Reward: -21.00, Epsilon: 0.10\n",
      "Episode: 54, Reward: -21.00, Epsilon: 0.10\n",
      "Episode: 54, Reward: -21.00, Epsilon: 0.10\n",
      "Episode: 54, Reward: -21.00, Epsilon: 0.10\n",
      "Episode: 54, Reward: -21.00, Epsilon: 0.10\n",
      "Episode: 54, Reward: -21.00, Epsilon: 0.10\n",
      "Episode: 54, Reward: -21.00, Epsilon: 0.10\n"
     ]
    },
    {
     "name": "stderr",
     "output_type": "stream",
     "text": [
      " 37%|███▋      | 56/150 [1:46:00<2:52:39, 110.21s/it]"
     ]
    },
    {
     "name": "stdout",
     "output_type": "stream",
     "text": [
      "Episode: 55, Reward: -20.00, Epsilon: 0.10\n",
      "Episode: 55, Reward: -20.00, Epsilon: 0.10\n",
      "Episode: 55, Reward: -21.00, Epsilon: 0.10\n",
      "Episode: 55, Reward: -19.00, Epsilon: 0.10\n",
      "Episode: 55, Reward: -19.00, Epsilon: 0.10\n",
      "Episode: 55, Reward: -21.00, Epsilon: 0.10\n",
      "Episode: 55, Reward: -19.00, Epsilon: 0.10\n",
      "Episode: 55, Reward: -21.00, Epsilon: 0.10\n"
     ]
    },
    {
     "name": "stderr",
     "output_type": "stream",
     "text": [
      " 38%|███▊      | 57/150 [1:47:53<2:52:02, 111.00s/it]"
     ]
    },
    {
     "name": "stdout",
     "output_type": "stream",
     "text": [
      "Episode: 56, Reward: -21.00, Epsilon: 0.10\n",
      "Episode: 56, Reward: -19.00, Epsilon: 0.10\n",
      "Episode: 56, Reward: -21.00, Epsilon: 0.10\n",
      "Episode: 56, Reward: -21.00, Epsilon: 0.10\n",
      "Episode: 56, Reward: -19.00, Epsilon: 0.10\n",
      "Episode: 56, Reward: -20.00, Epsilon: 0.10\n",
      "Episode: 56, Reward: -21.00, Epsilon: 0.10\n",
      "Episode: 56, Reward: -21.00, Epsilon: 0.10\n"
     ]
    },
    {
     "name": "stderr",
     "output_type": "stream",
     "text": [
      " 39%|███▊      | 58/150 [1:49:43<2:49:45, 110.72s/it]"
     ]
    },
    {
     "name": "stdout",
     "output_type": "stream",
     "text": [
      "Episode: 57, Reward: -21.00, Epsilon: 0.10\n",
      "Episode: 57, Reward: -21.00, Epsilon: 0.10\n",
      "Episode: 57, Reward: -21.00, Epsilon: 0.10\n",
      "Episode: 57, Reward: -21.00, Epsilon: 0.10\n",
      "Episode: 57, Reward: -21.00, Epsilon: 0.10\n",
      "Episode: 57, Reward: -21.00, Epsilon: 0.10\n",
      "Episode: 57, Reward: -21.00, Epsilon: 0.10\n",
      "Episode: 57, Reward: -21.00, Epsilon: 0.10\n"
     ]
    },
    {
     "name": "stderr",
     "output_type": "stream",
     "text": [
      " 39%|███▉      | 59/150 [1:51:41<2:51:09, 112.85s/it]"
     ]
    },
    {
     "name": "stdout",
     "output_type": "stream",
     "text": [
      "Episode: 58, Reward: -21.00, Epsilon: 0.10\n",
      "Episode: 58, Reward: -20.00, Epsilon: 0.10\n",
      "Episode: 58, Reward: -19.00, Epsilon: 0.10\n",
      "Episode: 58, Reward: -18.00, Epsilon: 0.10\n",
      "Episode: 58, Reward: -21.00, Epsilon: 0.10\n",
      "Episode: 58, Reward: -21.00, Epsilon: 0.10\n",
      "Episode: 58, Reward: -21.00, Epsilon: 0.10\n",
      "Episode: 58, Reward: -20.00, Epsilon: 0.10\n"
     ]
    },
    {
     "name": "stderr",
     "output_type": "stream",
     "text": [
      " 40%|████      | 60/150 [1:53:30<2:47:45, 111.84s/it]"
     ]
    },
    {
     "name": "stdout",
     "output_type": "stream",
     "text": [
      "Episode: 59, Reward: -18.00, Epsilon: 0.10\n",
      "Episode: 59, Reward: -19.00, Epsilon: 0.10\n",
      "Episode: 59, Reward: -21.00, Epsilon: 0.10\n",
      "Episode: 59, Reward: -18.00, Epsilon: 0.10\n",
      "Episode: 59, Reward: -17.00, Epsilon: 0.10\n",
      "Episode: 59, Reward: -16.00, Epsilon: 0.10\n",
      "Episode: 59, Reward: -20.00, Epsilon: 0.10\n",
      "Episode: 59, Reward: -21.00, Epsilon: 0.10\n"
     ]
    },
    {
     "name": "stderr",
     "output_type": "stream",
     "text": [
      " 41%|████      | 61/150 [1:55:29<2:48:40, 113.72s/it]"
     ]
    },
    {
     "name": "stdout",
     "output_type": "stream",
     "text": [
      "Episode: 60, Reward: -21.00, Epsilon: 0.10\n",
      "Episode: 60, Reward: -19.00, Epsilon: 0.10\n",
      "Episode: 60, Reward: -19.00, Epsilon: 0.10\n",
      "Episode: 60, Reward: -18.00, Epsilon: 0.10\n",
      "Episode: 60, Reward: -19.00, Epsilon: 0.10\n",
      "Episode: 60, Reward: -19.00, Epsilon: 0.10\n",
      "Episode: 60, Reward: -20.00, Epsilon: 0.10\n",
      "Episode: 60, Reward: -19.00, Epsilon: 0.10\n"
     ]
    },
    {
     "name": "stderr",
     "output_type": "stream",
     "text": [
      " 41%|████▏     | 62/150 [1:57:26<2:48:24, 114.82s/it]"
     ]
    },
    {
     "name": "stdout",
     "output_type": "stream",
     "text": [
      "Episode: 61, Reward: -20.00, Epsilon: 0.10\n",
      "Episode: 61, Reward: -20.00, Epsilon: 0.10\n",
      "Episode: 61, Reward: -20.00, Epsilon: 0.10\n",
      "Episode: 61, Reward: -18.00, Epsilon: 0.10\n",
      "Episode: 61, Reward: -19.00, Epsilon: 0.10\n",
      "Episode: 61, Reward: -19.00, Epsilon: 0.10\n",
      "Episode: 61, Reward: -19.00, Epsilon: 0.10\n",
      "Episode: 61, Reward: -21.00, Epsilon: 0.10\n"
     ]
    },
    {
     "name": "stderr",
     "output_type": "stream",
     "text": [
      " 42%|████▏     | 63/150 [1:59:15<2:44:07, 113.19s/it]"
     ]
    },
    {
     "name": "stdout",
     "output_type": "stream",
     "text": [
      "Episode: 62, Reward: -21.00, Epsilon: 0.10\n",
      "Episode: 62, Reward: -17.00, Epsilon: 0.10\n",
      "Episode: 62, Reward: -21.00, Epsilon: 0.10\n",
      "Episode: 62, Reward: -20.00, Epsilon: 0.10\n",
      "Episode: 62, Reward: -17.00, Epsilon: 0.10\n",
      "Episode: 62, Reward: -21.00, Epsilon: 0.10\n",
      "Episode: 62, Reward: -21.00, Epsilon: 0.10\n",
      "Episode: 62, Reward: -21.00, Epsilon: 0.10\n"
     ]
    },
    {
     "name": "stderr",
     "output_type": "stream",
     "text": [
      " 43%|████▎     | 64/150 [2:01:05<2:40:34, 112.03s/it]"
     ]
    },
    {
     "name": "stdout",
     "output_type": "stream",
     "text": [
      "Episode: 63, Reward: -17.00, Epsilon: 0.10\n",
      "Episode: 63, Reward: -19.00, Epsilon: 0.10\n",
      "Episode: 63, Reward: -18.00, Epsilon: 0.10\n",
      "Episode: 63, Reward: -20.00, Epsilon: 0.10\n",
      "Episode: 63, Reward: -12.00, Epsilon: 0.10\n",
      "Episode: 63, Reward: -21.00, Epsilon: 0.10\n",
      "Episode: 63, Reward: -19.00, Epsilon: 0.10\n",
      "Episode: 63, Reward: -20.00, Epsilon: 0.10\n"
     ]
    },
    {
     "name": "stderr",
     "output_type": "stream",
     "text": [
      " 43%|████▎     | 65/150 [2:02:58<2:39:22, 112.50s/it]"
     ]
    },
    {
     "name": "stdout",
     "output_type": "stream",
     "text": [
      "Episode: 64, Reward: -21.00, Epsilon: 0.10\n",
      "Episode: 64, Reward: -18.00, Epsilon: 0.10\n",
      "Episode: 64, Reward: -18.00, Epsilon: 0.10\n",
      "Episode: 64, Reward: -18.00, Epsilon: 0.10\n",
      "Episode: 64, Reward: -18.00, Epsilon: 0.10\n",
      "Episode: 64, Reward: -18.00, Epsilon: 0.10\n",
      "Episode: 64, Reward: -16.00, Epsilon: 0.10\n",
      "Episode: 64, Reward: -19.00, Epsilon: 0.10\n"
     ]
    },
    {
     "name": "stderr",
     "output_type": "stream",
     "text": [
      " 44%|████▍     | 66/150 [2:04:48<2:36:12, 111.58s/it]"
     ]
    },
    {
     "name": "stdout",
     "output_type": "stream",
     "text": [
      "Episode: 65, Reward: -19.00, Epsilon: 0.10\n",
      "Episode: 65, Reward: -19.00, Epsilon: 0.10\n",
      "Episode: 65, Reward: -19.00, Epsilon: 0.10\n",
      "Episode: 65, Reward: -21.00, Epsilon: 0.10\n",
      "Episode: 65, Reward: -19.00, Epsilon: 0.10\n",
      "Episode: 65, Reward: -19.00, Epsilon: 0.10\n",
      "Episode: 65, Reward: -19.00, Epsilon: 0.10\n",
      "Episode: 65, Reward: -16.00, Epsilon: 0.10\n"
     ]
    },
    {
     "name": "stderr",
     "output_type": "stream",
     "text": [
      " 45%|████▍     | 67/150 [2:06:45<2:36:44, 113.31s/it]"
     ]
    },
    {
     "name": "stdout",
     "output_type": "stream",
     "text": [
      "Episode: 66, Reward: -20.00, Epsilon: 0.10\n",
      "Episode: 66, Reward: -20.00, Epsilon: 0.10\n",
      "Episode: 66, Reward: -19.00, Epsilon: 0.10\n",
      "Episode: 66, Reward: -20.00, Epsilon: 0.10\n",
      "Episode: 66, Reward: -15.00, Epsilon: 0.10\n",
      "Episode: 66, Reward: -19.00, Epsilon: 0.10\n",
      "Episode: 66, Reward: -21.00, Epsilon: 0.10\n",
      "Episode: 66, Reward: -19.00, Epsilon: 0.10\n"
     ]
    },
    {
     "name": "stderr",
     "output_type": "stream",
     "text": [
      " 45%|████▌     | 68/150 [2:08:34<2:33:06, 112.03s/it]"
     ]
    },
    {
     "name": "stdout",
     "output_type": "stream",
     "text": [
      "Episode: 67, Reward: -21.00, Epsilon: 0.10\n",
      "Episode: 67, Reward: -17.00, Epsilon: 0.10\n",
      "Episode: 67, Reward: -20.00, Epsilon: 0.10\n",
      "Episode: 67, Reward: -21.00, Epsilon: 0.10\n",
      "Episode: 67, Reward: -20.00, Epsilon: 0.10\n",
      "Episode: 67, Reward: -21.00, Epsilon: 0.10\n",
      "Episode: 67, Reward: -18.00, Epsilon: 0.10\n",
      "Episode: 67, Reward: -18.00, Epsilon: 0.10\n"
     ]
    },
    {
     "name": "stderr",
     "output_type": "stream",
     "text": [
      " 46%|████▌     | 69/150 [2:10:27<2:31:39, 112.33s/it]"
     ]
    },
    {
     "name": "stdout",
     "output_type": "stream",
     "text": [
      "Episode: 68, Reward: -20.00, Epsilon: 0.10\n",
      "Episode: 68, Reward: -21.00, Epsilon: 0.10\n",
      "Episode: 68, Reward: -20.00, Epsilon: 0.10\n",
      "Episode: 68, Reward: -18.00, Epsilon: 0.10\n",
      "Episode: 68, Reward: -18.00, Epsilon: 0.10\n",
      "Episode: 68, Reward: -20.00, Epsilon: 0.10\n",
      "Episode: 68, Reward: -20.00, Epsilon: 0.10\n",
      "Episode: 68, Reward: -18.00, Epsilon: 0.10\n"
     ]
    },
    {
     "name": "stderr",
     "output_type": "stream",
     "text": [
      " 47%|████▋     | 70/150 [2:12:16<2:28:34, 111.43s/it]"
     ]
    },
    {
     "name": "stdout",
     "output_type": "stream",
     "text": [
      "Episode: 69, Reward: -20.00, Epsilon: 0.10\n",
      "Episode: 69, Reward: -19.00, Epsilon: 0.10\n",
      "Episode: 69, Reward: -17.00, Epsilon: 0.10\n",
      "Episode: 69, Reward: -18.00, Epsilon: 0.10\n",
      "Episode: 69, Reward: -21.00, Epsilon: 0.10\n",
      "Episode: 69, Reward: -16.00, Epsilon: 0.10\n",
      "Episode: 69, Reward: -19.00, Epsilon: 0.10\n",
      "Episode: 69, Reward: -20.00, Epsilon: 0.10\n"
     ]
    },
    {
     "name": "stderr",
     "output_type": "stream",
     "text": [
      " 47%|████▋     | 71/150 [2:14:10<2:27:36, 112.11s/it]"
     ]
    },
    {
     "name": "stdout",
     "output_type": "stream",
     "text": [
      "Episode: 70, Reward: -19.00, Epsilon: 0.10\n",
      "Episode: 70, Reward: -20.00, Epsilon: 0.10\n",
      "Episode: 70, Reward: -20.00, Epsilon: 0.10\n",
      "Episode: 70, Reward: -18.00, Epsilon: 0.10\n",
      "Episode: 70, Reward: -21.00, Epsilon: 0.10\n",
      "Episode: 70, Reward: -21.00, Epsilon: 0.10\n",
      "Episode: 70, Reward: -18.00, Epsilon: 0.10\n",
      "Episode: 70, Reward: -21.00, Epsilon: 0.10\n"
     ]
    },
    {
     "name": "stderr",
     "output_type": "stream",
     "text": [
      " 48%|████▊     | 72/150 [2:16:03<2:26:04, 112.36s/it]"
     ]
    },
    {
     "name": "stdout",
     "output_type": "stream",
     "text": [
      "Episode: 71, Reward: -18.00, Epsilon: 0.10\n",
      "Episode: 71, Reward: -16.00, Epsilon: 0.10\n",
      "Episode: 71, Reward: -17.00, Epsilon: 0.10\n",
      "Episode: 71, Reward: -20.00, Epsilon: 0.10\n",
      "Episode: 71, Reward: -17.00, Epsilon: 0.10\n",
      "Episode: 71, Reward: -20.00, Epsilon: 0.10\n",
      "Episode: 71, Reward: -21.00, Epsilon: 0.10\n",
      "Episode: 71, Reward: -18.00, Epsilon: 0.10\n"
     ]
    },
    {
     "name": "stderr",
     "output_type": "stream",
     "text": [
      " 49%|████▊     | 73/150 [2:18:01<2:26:16, 113.98s/it]"
     ]
    },
    {
     "name": "stdout",
     "output_type": "stream",
     "text": [
      "Episode: 72, Reward: -20.00, Epsilon: 0.10\n",
      "Episode: 72, Reward: -20.00, Epsilon: 0.10\n",
      "Episode: 72, Reward: -19.00, Epsilon: 0.10\n",
      "Episode: 72, Reward: -19.00, Epsilon: 0.10\n",
      "Episode: 72, Reward: -21.00, Epsilon: 0.10\n",
      "Episode: 72, Reward: -17.00, Epsilon: 0.10\n",
      "Episode: 72, Reward: -15.00, Epsilon: 0.10\n",
      "Episode: 72, Reward: -21.00, Epsilon: 0.10\n"
     ]
    },
    {
     "name": "stderr",
     "output_type": "stream",
     "text": [
      " 49%|████▉     | 74/150 [2:19:50<2:22:29, 112.50s/it]"
     ]
    },
    {
     "name": "stdout",
     "output_type": "stream",
     "text": [
      "Episode: 73, Reward: -21.00, Epsilon: 0.10\n",
      "Episode: 73, Reward: -21.00, Epsilon: 0.10\n",
      "Episode: 73, Reward: -21.00, Epsilon: 0.10\n",
      "Episode: 73, Reward: -19.00, Epsilon: 0.10\n",
      "Episode: 73, Reward: -21.00, Epsilon: 0.10\n",
      "Episode: 73, Reward: -21.00, Epsilon: 0.10\n",
      "Episode: 73, Reward: -21.00, Epsilon: 0.10\n",
      "Episode: 73, Reward: -21.00, Epsilon: 0.10\n"
     ]
    },
    {
     "name": "stderr",
     "output_type": "stream",
     "text": [
      " 50%|█████     | 75/150 [2:21:39<2:19:17, 111.43s/it]"
     ]
    },
    {
     "name": "stdout",
     "output_type": "stream",
     "text": [
      "Episode: 74, Reward: -21.00, Epsilon: 0.10\n",
      "Episode: 74, Reward: -21.00, Epsilon: 0.10\n",
      "Episode: 74, Reward: -21.00, Epsilon: 0.10\n",
      "Episode: 74, Reward: -21.00, Epsilon: 0.10\n",
      "Episode: 74, Reward: -21.00, Epsilon: 0.10\n",
      "Episode: 74, Reward: -21.00, Epsilon: 0.10\n",
      "Episode: 74, Reward: -21.00, Epsilon: 0.10\n",
      "Episode: 74, Reward: -21.00, Epsilon: 0.10\n"
     ]
    },
    {
     "name": "stderr",
     "output_type": "stream",
     "text": [
      " 51%|█████     | 76/150 [2:23:28<2:16:31, 110.70s/it]"
     ]
    },
    {
     "name": "stdout",
     "output_type": "stream",
     "text": [
      "Episode: 75, Reward: -21.00, Epsilon: 0.10\n",
      "Episode: 75, Reward: -20.00, Epsilon: 0.10\n",
      "Episode: 75, Reward: -21.00, Epsilon: 0.10\n",
      "Episode: 75, Reward: -20.00, Epsilon: 0.10\n",
      "Episode: 75, Reward: -21.00, Epsilon: 0.10\n",
      "Episode: 75, Reward: -21.00, Epsilon: 0.10\n",
      "Episode: 75, Reward: -21.00, Epsilon: 0.10\n",
      "Episode: 75, Reward: -20.00, Epsilon: 0.10\n"
     ]
    },
    {
     "name": "stderr",
     "output_type": "stream",
     "text": [
      " 51%|█████▏    | 77/150 [2:25:17<2:14:03, 110.19s/it]"
     ]
    },
    {
     "name": "stdout",
     "output_type": "stream",
     "text": [
      "Episode: 76, Reward: -21.00, Epsilon: 0.10\n",
      "Episode: 76, Reward: -21.00, Epsilon: 0.10\n",
      "Episode: 76, Reward: -21.00, Epsilon: 0.10\n",
      "Episode: 76, Reward: -21.00, Epsilon: 0.10\n",
      "Episode: 76, Reward: -21.00, Epsilon: 0.10\n",
      "Episode: 76, Reward: -21.00, Epsilon: 0.10\n",
      "Episode: 76, Reward: -21.00, Epsilon: 0.10\n",
      "Episode: 76, Reward: -21.00, Epsilon: 0.10\n"
     ]
    },
    {
     "name": "stderr",
     "output_type": "stream",
     "text": [
      " 52%|█████▏    | 78/150 [2:27:05<2:11:40, 109.73s/it]"
     ]
    },
    {
     "name": "stdout",
     "output_type": "stream",
     "text": [
      "Episode: 77, Reward: -20.00, Epsilon: 0.10\n",
      "Episode: 77, Reward: -21.00, Epsilon: 0.10\n",
      "Episode: 77, Reward: -21.00, Epsilon: 0.10\n",
      "Episode: 77, Reward: -21.00, Epsilon: 0.10\n",
      "Episode: 77, Reward: -20.00, Epsilon: 0.10\n",
      "Episode: 77, Reward: -19.00, Epsilon: 0.10\n",
      "Episode: 77, Reward: -21.00, Epsilon: 0.10\n",
      "Episode: 77, Reward: -19.00, Epsilon: 0.10\n"
     ]
    },
    {
     "name": "stderr",
     "output_type": "stream",
     "text": [
      " 53%|█████▎    | 79/150 [2:28:54<2:09:16, 109.24s/it]"
     ]
    },
    {
     "name": "stdout",
     "output_type": "stream",
     "text": [
      "Episode: 78, Reward: -21.00, Epsilon: 0.10\n",
      "Episode: 78, Reward: -19.00, Epsilon: 0.10\n",
      "Episode: 78, Reward: -21.00, Epsilon: 0.10\n",
      "Episode: 78, Reward: -17.00, Epsilon: 0.10\n",
      "Episode: 78, Reward: -19.00, Epsilon: 0.10\n",
      "Episode: 78, Reward: -19.00, Epsilon: 0.10\n",
      "Episode: 78, Reward: -19.00, Epsilon: 0.10\n",
      "Episode: 78, Reward: -21.00, Epsilon: 0.10\n"
     ]
    },
    {
     "name": "stderr",
     "output_type": "stream",
     "text": [
      " 53%|█████▎    | 80/150 [2:30:42<2:07:05, 108.93s/it]"
     ]
    },
    {
     "name": "stdout",
     "output_type": "stream",
     "text": [
      "Episode: 79, Reward: -19.00, Epsilon: 0.10\n",
      "Episode: 79, Reward: -15.00, Epsilon: 0.10\n",
      "Episode: 79, Reward: -17.00, Epsilon: 0.10\n",
      "Episode: 79, Reward: -21.00, Epsilon: 0.10\n",
      "Episode: 79, Reward: -17.00, Epsilon: 0.10\n",
      "Episode: 79, Reward: -19.00, Epsilon: 0.10\n",
      "Episode: 79, Reward: -17.00, Epsilon: 0.10\n",
      "Episode: 79, Reward: -21.00, Epsilon: 0.10\n"
     ]
    },
    {
     "name": "stderr",
     "output_type": "stream",
     "text": [
      " 54%|█████▍    | 81/150 [2:32:34<2:06:22, 109.89s/it]"
     ]
    },
    {
     "name": "stdout",
     "output_type": "stream",
     "text": [
      "Episode: 80, Reward: -20.00, Epsilon: 0.10\n",
      "Episode: 80, Reward: -20.00, Epsilon: 0.10\n",
      "Episode: 80, Reward: -20.00, Epsilon: 0.10\n",
      "Episode: 80, Reward: -18.00, Epsilon: 0.10\n",
      "Episode: 80, Reward: -21.00, Epsilon: 0.10\n",
      "Episode: 80, Reward: -21.00, Epsilon: 0.10\n",
      "Episode: 80, Reward: -20.00, Epsilon: 0.10\n",
      "Episode: 80, Reward: -20.00, Epsilon: 0.10\n"
     ]
    },
    {
     "name": "stderr",
     "output_type": "stream",
     "text": [
      " 55%|█████▍    | 82/150 [2:34:22<2:03:52, 109.30s/it]"
     ]
    },
    {
     "name": "stdout",
     "output_type": "stream",
     "text": [
      "Episode: 81, Reward: -21.00, Epsilon: 0.10\n",
      "Episode: 81, Reward: -17.00, Epsilon: 0.10\n",
      "Episode: 81, Reward: -17.00, Epsilon: 0.10\n",
      "Episode: 81, Reward: -17.00, Epsilon: 0.10\n",
      "Episode: 81, Reward: -16.00, Epsilon: 0.10\n",
      "Episode: 81, Reward: -20.00, Epsilon: 0.10\n",
      "Episode: 81, Reward: -17.00, Epsilon: 0.10\n",
      "Episode: 81, Reward: -17.00, Epsilon: 0.10\n"
     ]
    },
    {
     "name": "stderr",
     "output_type": "stream",
     "text": [
      " 55%|█████▌    | 83/150 [2:36:10<2:01:43, 109.00s/it]"
     ]
    },
    {
     "name": "stdout",
     "output_type": "stream",
     "text": [
      "Episode: 82, Reward: -15.00, Epsilon: 0.10\n",
      "Episode: 82, Reward: -21.00, Epsilon: 0.10\n",
      "Episode: 82, Reward: -17.00, Epsilon: 0.10\n",
      "Episode: 82, Reward: -21.00, Epsilon: 0.10\n",
      "Episode: 82, Reward: -21.00, Epsilon: 0.10\n",
      "Episode: 82, Reward: -21.00, Epsilon: 0.10\n",
      "Episode: 82, Reward: -21.00, Epsilon: 0.10\n",
      "Episode: 82, Reward: -16.00, Epsilon: 0.10\n"
     ]
    },
    {
     "name": "stderr",
     "output_type": "stream",
     "text": [
      " 56%|█████▌    | 84/150 [2:37:58<1:59:37, 108.76s/it]"
     ]
    },
    {
     "name": "stdout",
     "output_type": "stream",
     "text": [
      "Episode: 83, Reward: -21.00, Epsilon: 0.10\n",
      "Episode: 83, Reward: -21.00, Epsilon: 0.10\n",
      "Episode: 83, Reward: -21.00, Epsilon: 0.10\n",
      "Episode: 83, Reward: -21.00, Epsilon: 0.10\n",
      "Episode: 83, Reward: -21.00, Epsilon: 0.10\n",
      "Episode: 83, Reward: -21.00, Epsilon: 0.10\n",
      "Episode: 83, Reward: -21.00, Epsilon: 0.10\n",
      "Episode: 83, Reward: -21.00, Epsilon: 0.10\n"
     ]
    },
    {
     "name": "stderr",
     "output_type": "stream",
     "text": [
      " 57%|█████▋    | 85/150 [2:39:50<1:58:55, 109.78s/it]"
     ]
    },
    {
     "name": "stdout",
     "output_type": "stream",
     "text": [
      "Episode: 84, Reward: -18.00, Epsilon: 0.10\n",
      "Episode: 84, Reward: -20.00, Epsilon: 0.10\n",
      "Episode: 84, Reward: -21.00, Epsilon: 0.10\n",
      "Episode: 84, Reward: -21.00, Epsilon: 0.10\n",
      "Episode: 84, Reward: -18.00, Epsilon: 0.10\n",
      "Episode: 84, Reward: -18.00, Epsilon: 0.10\n",
      "Episode: 84, Reward: -16.00, Epsilon: 0.10\n",
      "Episode: 84, Reward: -18.00, Epsilon: 0.10\n"
     ]
    },
    {
     "name": "stderr",
     "output_type": "stream",
     "text": [
      " 57%|█████▋    | 86/150 [2:41:39<1:56:42, 109.41s/it]"
     ]
    },
    {
     "name": "stdout",
     "output_type": "stream",
     "text": [
      "Episode: 85, Reward: -21.00, Epsilon: 0.10\n",
      "Episode: 85, Reward: -21.00, Epsilon: 0.10\n",
      "Episode: 85, Reward: -21.00, Epsilon: 0.10\n",
      "Episode: 85, Reward: -21.00, Epsilon: 0.10\n",
      "Episode: 85, Reward: -21.00, Epsilon: 0.10\n",
      "Episode: 85, Reward: -21.00, Epsilon: 0.10\n",
      "Episode: 85, Reward: -21.00, Epsilon: 0.10\n",
      "Episode: 85, Reward: -21.00, Epsilon: 0.10\n"
     ]
    },
    {
     "name": "stderr",
     "output_type": "stream",
     "text": [
      " 58%|█████▊    | 87/150 [2:43:36<1:57:21, 111.78s/it]"
     ]
    },
    {
     "name": "stdout",
     "output_type": "stream",
     "text": [
      "Episode: 86, Reward: -19.00, Epsilon: 0.10\n",
      "Episode: 86, Reward: -21.00, Epsilon: 0.10\n",
      "Episode: 86, Reward: -16.00, Epsilon: 0.10\n",
      "Episode: 86, Reward: -20.00, Epsilon: 0.10\n",
      "Episode: 86, Reward: -19.00, Epsilon: 0.10\n",
      "Episode: 86, Reward: -19.00, Epsilon: 0.10\n",
      "Episode: 86, Reward: -20.00, Epsilon: 0.10\n",
      "Episode: 86, Reward: -15.00, Epsilon: 0.10\n"
     ]
    },
    {
     "name": "stderr",
     "output_type": "stream",
     "text": [
      " 59%|█████▊    | 88/150 [2:45:31<1:56:30, 112.74s/it]"
     ]
    },
    {
     "name": "stdout",
     "output_type": "stream",
     "text": [
      "Episode: 87, Reward: -19.00, Epsilon: 0.10\n",
      "Episode: 87, Reward: -19.00, Epsilon: 0.10\n",
      "Episode: 87, Reward: -19.00, Epsilon: 0.10\n",
      "Episode: 87, Reward: -16.00, Epsilon: 0.10\n",
      "Episode: 87, Reward: -21.00, Epsilon: 0.10\n",
      "Episode: 87, Reward: -19.00, Epsilon: 0.10\n",
      "Episode: 87, Reward: -15.00, Epsilon: 0.10\n",
      "Episode: 87, Reward: -15.00, Epsilon: 0.10\n"
     ]
    },
    {
     "name": "stderr",
     "output_type": "stream",
     "text": [
      " 59%|█████▉    | 89/150 [2:47:34<1:57:39, 115.73s/it]"
     ]
    },
    {
     "name": "stdout",
     "output_type": "stream",
     "text": [
      "Episode: 88, Reward: -19.00, Epsilon: 0.10\n",
      "Episode: 88, Reward: -21.00, Epsilon: 0.10\n",
      "Episode: 88, Reward: -19.00, Epsilon: 0.10\n",
      "Episode: 88, Reward: -19.00, Epsilon: 0.10\n",
      "Episode: 88, Reward: -19.00, Epsilon: 0.10\n",
      "Episode: 88, Reward: -19.00, Epsilon: 0.10\n",
      "Episode: 88, Reward: -21.00, Epsilon: 0.10\n",
      "Episode: 88, Reward: -19.00, Epsilon: 0.10\n"
     ]
    },
    {
     "name": "stderr",
     "output_type": "stream",
     "text": [
      " 60%|██████    | 90/150 [2:49:26<1:54:40, 114.67s/it]"
     ]
    },
    {
     "name": "stdout",
     "output_type": "stream",
     "text": [
      "Episode: 89, Reward: -17.00, Epsilon: 0.10\n",
      "Episode: 89, Reward: -17.00, Epsilon: 0.10\n",
      "Episode: 89, Reward: -21.00, Epsilon: 0.10\n",
      "Episode: 89, Reward: -21.00, Epsilon: 0.10\n",
      "Episode: 89, Reward: -21.00, Epsilon: 0.10\n",
      "Episode: 89, Reward: -21.00, Epsilon: 0.10\n",
      "Episode: 89, Reward: -19.00, Epsilon: 0.10\n",
      "Episode: 89, Reward: -17.00, Epsilon: 0.10\n"
     ]
    },
    {
     "name": "stderr",
     "output_type": "stream",
     "text": [
      " 61%|██████    | 91/150 [2:51:17<1:51:40, 113.56s/it]"
     ]
    },
    {
     "name": "stdout",
     "output_type": "stream",
     "text": [
      "Episode: 90, Reward: -18.00, Epsilon: 0.10\n",
      "Episode: 90, Reward: -21.00, Epsilon: 0.10\n",
      "Episode: 90, Reward: -21.00, Epsilon: 0.10\n",
      "Episode: 90, Reward: -21.00, Epsilon: 0.10\n",
      "Episode: 90, Reward: -21.00, Epsilon: 0.10\n",
      "Episode: 90, Reward: -21.00, Epsilon: 0.10\n",
      "Episode: 90, Reward: -21.00, Epsilon: 0.10\n",
      "Episode: 90, Reward: -21.00, Epsilon: 0.10\n"
     ]
    },
    {
     "name": "stderr",
     "output_type": "stream",
     "text": [
      " 61%|██████▏   | 92/150 [2:53:06<1:48:29, 112.24s/it]"
     ]
    },
    {
     "name": "stdout",
     "output_type": "stream",
     "text": [
      "Episode: 91, Reward: -21.00, Epsilon: 0.10\n",
      "Episode: 91, Reward: -21.00, Epsilon: 0.10\n",
      "Episode: 91, Reward: -21.00, Epsilon: 0.10\n",
      "Episode: 91, Reward: -21.00, Epsilon: 0.10\n",
      "Episode: 91, Reward: -21.00, Epsilon: 0.10\n",
      "Episode: 91, Reward: -21.00, Epsilon: 0.10\n",
      "Episode: 91, Reward: -21.00, Epsilon: 0.10\n",
      "Episode: 91, Reward: -21.00, Epsilon: 0.10\n"
     ]
    },
    {
     "name": "stderr",
     "output_type": "stream",
     "text": [
      " 62%|██████▏   | 93/150 [2:54:56<1:45:48, 111.37s/it]"
     ]
    },
    {
     "name": "stdout",
     "output_type": "stream",
     "text": [
      "Episode: 92, Reward: -19.00, Epsilon: 0.10\n",
      "Episode: 92, Reward: -21.00, Epsilon: 0.10\n",
      "Episode: 92, Reward: -17.00, Epsilon: 0.10\n",
      "Episode: 92, Reward: -19.00, Epsilon: 0.10\n",
      "Episode: 92, Reward: -19.00, Epsilon: 0.10\n",
      "Episode: 92, Reward: -19.00, Epsilon: 0.10\n",
      "Episode: 92, Reward: -17.00, Epsilon: 0.10\n",
      "Episode: 92, Reward: -15.00, Epsilon: 0.10\n"
     ]
    },
    {
     "name": "stderr",
     "output_type": "stream",
     "text": [
      " 63%|██████▎   | 94/150 [2:56:45<1:43:16, 110.65s/it]"
     ]
    },
    {
     "name": "stdout",
     "output_type": "stream",
     "text": [
      "Episode: 93, Reward: -19.00, Epsilon: 0.10\n",
      "Episode: 93, Reward: -19.00, Epsilon: 0.10\n",
      "Episode: 93, Reward: -15.00, Epsilon: 0.10\n",
      "Episode: 93, Reward: -16.00, Epsilon: 0.10\n",
      "Episode: 93, Reward: -17.00, Epsilon: 0.10\n",
      "Episode: 93, Reward: -21.00, Epsilon: 0.10\n",
      "Episode: 93, Reward: -16.00, Epsilon: 0.10\n",
      "Episode: 93, Reward: -19.00, Epsilon: 0.10\n"
     ]
    },
    {
     "name": "stderr",
     "output_type": "stream",
     "text": [
      " 63%|██████▎   | 95/150 [2:58:33<1:40:45, 109.91s/it]"
     ]
    },
    {
     "name": "stdout",
     "output_type": "stream",
     "text": [
      "Episode: 94, Reward: -16.00, Epsilon: 0.10\n",
      "Episode: 94, Reward: -13.00, Epsilon: 0.10\n",
      "Episode: 94, Reward: -21.00, Epsilon: 0.10\n",
      "Episode: 94, Reward: -19.00, Epsilon: 0.10\n",
      "Episode: 94, Reward: -17.00, Epsilon: 0.10\n",
      "Episode: 94, Reward: -15.00, Epsilon: 0.10\n",
      "Episode: 94, Reward: -17.00, Epsilon: 0.10\n",
      "Episode: 94, Reward: -20.00, Epsilon: 0.10\n"
     ]
    },
    {
     "name": "stderr",
     "output_type": "stream",
     "text": [
      " 64%|██████▍   | 96/150 [3:00:22<1:38:36, 109.57s/it]"
     ]
    },
    {
     "name": "stdout",
     "output_type": "stream",
     "text": [
      "Episode: 95, Reward: -21.00, Epsilon: 0.10\n",
      "Episode: 95, Reward: -21.00, Epsilon: 0.10\n",
      "Episode: 95, Reward: -21.00, Epsilon: 0.10\n",
      "Episode: 95, Reward: -21.00, Epsilon: 0.10\n",
      "Episode: 95, Reward: -21.00, Epsilon: 0.10\n",
      "Episode: 95, Reward: -21.00, Epsilon: 0.10\n",
      "Episode: 95, Reward: -21.00, Epsilon: 0.10\n",
      "Episode: 95, Reward: -21.00, Epsilon: 0.10\n"
     ]
    },
    {
     "name": "stderr",
     "output_type": "stream",
     "text": [
      " 65%|██████▍   | 97/150 [3:02:10<1:36:34, 109.33s/it]"
     ]
    },
    {
     "name": "stdout",
     "output_type": "stream",
     "text": [
      "Episode: 96, Reward: -21.00, Epsilon: 0.10\n",
      "Episode: 96, Reward: -21.00, Epsilon: 0.10\n",
      "Episode: 96, Reward: -21.00, Epsilon: 0.10\n",
      "Episode: 96, Reward: -21.00, Epsilon: 0.10\n",
      "Episode: 96, Reward: -21.00, Epsilon: 0.10\n",
      "Episode: 96, Reward: -21.00, Epsilon: 0.10\n",
      "Episode: 96, Reward: -21.00, Epsilon: 0.10\n",
      "Episode: 96, Reward: -21.00, Epsilon: 0.10\n"
     ]
    },
    {
     "name": "stderr",
     "output_type": "stream",
     "text": [
      " 65%|██████▌   | 98/150 [3:03:59<1:34:39, 109.22s/it]"
     ]
    },
    {
     "name": "stdout",
     "output_type": "stream",
     "text": [
      "Episode: 97, Reward: -21.00, Epsilon: 0.10\n",
      "Episode: 97, Reward: -21.00, Epsilon: 0.10\n",
      "Episode: 97, Reward: -21.00, Epsilon: 0.10\n",
      "Episode: 97, Reward: -21.00, Epsilon: 0.10\n",
      "Episode: 97, Reward: -21.00, Epsilon: 0.10\n",
      "Episode: 97, Reward: -21.00, Epsilon: 0.10\n",
      "Episode: 97, Reward: -21.00, Epsilon: 0.10\n",
      "Episode: 97, Reward: -21.00, Epsilon: 0.10\n"
     ]
    },
    {
     "name": "stderr",
     "output_type": "stream",
     "text": [
      " 66%|██████▌   | 99/150 [3:05:52<1:33:45, 110.30s/it]"
     ]
    },
    {
     "name": "stdout",
     "output_type": "stream",
     "text": [
      "Episode: 98, Reward: -14.00, Epsilon: 0.10\n",
      "Episode: 98, Reward: -17.00, Epsilon: 0.10\n",
      "Episode: 98, Reward: -17.00, Epsilon: 0.10\n",
      "Episode: 98, Reward: -21.00, Epsilon: 0.10\n",
      "Episode: 98, Reward: -15.00, Epsilon: 0.10\n",
      "Episode: 98, Reward: -18.00, Epsilon: 0.10\n",
      "Episode: 98, Reward: -17.00, Epsilon: 0.10\n",
      "Episode: 98, Reward: -18.00, Epsilon: 0.10\n"
     ]
    },
    {
     "name": "stderr",
     "output_type": "stream",
     "text": [
      " 67%|██████▋   | 100/150 [3:07:50<1:33:43, 112.47s/it]"
     ]
    },
    {
     "name": "stdout",
     "output_type": "stream",
     "text": [
      "Episode: 99, Reward: -18.00, Epsilon: 0.10\n",
      "Episode: 99, Reward: -21.00, Epsilon: 0.10\n",
      "Episode: 99, Reward: -17.00, Epsilon: 0.10\n",
      "Episode: 99, Reward: -21.00, Epsilon: 0.10\n",
      "Episode: 99, Reward: -20.00, Epsilon: 0.10\n",
      "Episode: 99, Reward: -18.00, Epsilon: 0.10\n",
      "Episode: 99, Reward: -21.00, Epsilon: 0.10\n",
      "Episode: 99, Reward: -21.00, Epsilon: 0.10\n"
     ]
    },
    {
     "name": "stderr",
     "output_type": "stream",
     "text": [
      " 67%|██████▋   | 101/150 [3:09:47<1:33:04, 113.97s/it]"
     ]
    },
    {
     "name": "stdout",
     "output_type": "stream",
     "text": [
      "Episode: 100, Reward: -13.00, Epsilon: 0.10\n",
      "Episode: 100, Reward: -21.00, Epsilon: 0.10\n",
      "Episode: 100, Reward: -19.00, Epsilon: 0.10\n",
      "Episode: 100, Reward: -20.00, Epsilon: 0.10\n",
      "Episode: 100, Reward: -20.00, Epsilon: 0.10\n",
      "Episode: 100, Reward: -17.00, Epsilon: 0.10\n",
      "Episode: 100, Reward: -20.00, Epsilon: 0.10\n",
      "Episode: 100, Reward: -19.00, Epsilon: 0.10\n"
     ]
    },
    {
     "name": "stderr",
     "output_type": "stream",
     "text": [
      " 68%|██████▊   | 102/150 [3:11:36<1:29:58, 112.47s/it]"
     ]
    },
    {
     "name": "stdout",
     "output_type": "stream",
     "text": [
      "Episode: 101, Reward: -20.00, Epsilon: 0.10\n",
      "Episode: 101, Reward: -17.00, Epsilon: 0.10\n",
      "Episode: 101, Reward: -15.00, Epsilon: 0.10\n",
      "Episode: 101, Reward: -16.00, Epsilon: 0.10\n",
      "Episode: 101, Reward: -20.00, Epsilon: 0.10\n",
      "Episode: 101, Reward: -21.00, Epsilon: 0.10\n",
      "Episode: 101, Reward: -17.00, Epsilon: 0.10\n",
      "Episode: 101, Reward: -17.00, Epsilon: 0.10\n"
     ]
    },
    {
     "name": "stderr",
     "output_type": "stream",
     "text": [
      " 69%|██████▊   | 103/150 [3:13:25<1:27:17, 111.44s/it]"
     ]
    },
    {
     "name": "stdout",
     "output_type": "stream",
     "text": [
      "Episode: 102, Reward: -21.00, Epsilon: 0.10\n",
      "Episode: 102, Reward: -21.00, Epsilon: 0.10\n",
      "Episode: 102, Reward: -21.00, Epsilon: 0.10\n",
      "Episode: 102, Reward: -20.00, Epsilon: 0.10\n",
      "Episode: 102, Reward: -20.00, Epsilon: 0.10\n",
      "Episode: 102, Reward: -21.00, Epsilon: 0.10\n",
      "Episode: 102, Reward: -20.00, Epsilon: 0.10\n",
      "Episode: 102, Reward: -21.00, Epsilon: 0.10\n"
     ]
    },
    {
     "name": "stderr",
     "output_type": "stream",
     "text": [
      " 69%|██████▉   | 104/150 [3:15:14<1:24:53, 110.73s/it]"
     ]
    },
    {
     "name": "stdout",
     "output_type": "stream",
     "text": [
      "Episode: 103, Reward: -19.00, Epsilon: 0.10\n",
      "Episode: 103, Reward: -20.00, Epsilon: 0.10\n",
      "Episode: 103, Reward: -20.00, Epsilon: 0.10\n",
      "Episode: 103, Reward: -21.00, Epsilon: 0.10\n",
      "Episode: 103, Reward: -21.00, Epsilon: 0.10\n",
      "Episode: 103, Reward: -19.00, Epsilon: 0.10\n",
      "Episode: 103, Reward: -21.00, Epsilon: 0.10\n",
      "Episode: 103, Reward: -21.00, Epsilon: 0.10\n"
     ]
    },
    {
     "name": "stderr",
     "output_type": "stream",
     "text": [
      " 70%|███████   | 105/150 [3:17:12<1:24:34, 112.76s/it]"
     ]
    },
    {
     "name": "stdout",
     "output_type": "stream",
     "text": [
      "Episode: 104, Reward: -21.00, Epsilon: 0.10\n",
      "Episode: 104, Reward: -19.00, Epsilon: 0.10\n",
      "Episode: 104, Reward: -19.00, Epsilon: 0.10\n",
      "Episode: 104, Reward: -19.00, Epsilon: 0.10\n",
      "Episode: 104, Reward: -21.00, Epsilon: 0.10\n",
      "Episode: 104, Reward: -17.00, Epsilon: 0.10\n",
      "Episode: 104, Reward: -19.00, Epsilon: 0.10\n",
      "Episode: 104, Reward: -17.00, Epsilon: 0.10\n"
     ]
    },
    {
     "name": "stderr",
     "output_type": "stream",
     "text": [
      " 71%|███████   | 106/150 [3:19:05<1:22:42, 112.78s/it]"
     ]
    },
    {
     "name": "stdout",
     "output_type": "stream",
     "text": [
      "Episode: 105, Reward: -18.00, Epsilon: 0.10\n",
      "Episode: 105, Reward: -16.00, Epsilon: 0.10\n",
      "Episode: 105, Reward: -21.00, Epsilon: 0.10\n",
      "Episode: 105, Reward: -20.00, Epsilon: 0.10\n",
      "Episode: 105, Reward: -20.00, Epsilon: 0.10\n",
      "Episode: 105, Reward: -20.00, Epsilon: 0.10\n",
      "Episode: 105, Reward: -15.00, Epsilon: 0.10\n",
      "Episode: 105, Reward: -15.00, Epsilon: 0.10\n"
     ]
    },
    {
     "name": "stderr",
     "output_type": "stream",
     "text": [
      " 71%|███████▏  | 107/150 [3:20:53<1:19:56, 111.54s/it]"
     ]
    },
    {
     "name": "stdout",
     "output_type": "stream",
     "text": [
      "Episode: 106, Reward: -19.00, Epsilon: 0.10\n",
      "Episode: 106, Reward: -17.00, Epsilon: 0.10\n",
      "Episode: 106, Reward: -21.00, Epsilon: 0.10\n",
      "Episode: 106, Reward: -15.00, Epsilon: 0.10\n",
      "Episode: 106, Reward: -20.00, Epsilon: 0.10\n",
      "Episode: 106, Reward: -17.00, Epsilon: 0.10\n",
      "Episode: 106, Reward: -21.00, Epsilon: 0.10\n",
      "Episode: 106, Reward: -20.00, Epsilon: 0.10\n"
     ]
    },
    {
     "name": "stderr",
     "output_type": "stream",
     "text": [
      " 72%|███████▏  | 108/150 [3:22:50<1:19:08, 113.06s/it]"
     ]
    },
    {
     "name": "stdout",
     "output_type": "stream",
     "text": [
      "Episode: 107, Reward: -18.00, Epsilon: 0.10\n",
      "Episode: 107, Reward: -19.00, Epsilon: 0.10\n",
      "Episode: 107, Reward: -18.00, Epsilon: 0.10\n",
      "Episode: 107, Reward: -20.00, Epsilon: 0.10\n",
      "Episode: 107, Reward: -21.00, Epsilon: 0.10\n",
      "Episode: 107, Reward: -18.00, Epsilon: 0.10\n",
      "Episode: 107, Reward: -19.00, Epsilon: 0.10\n",
      "Episode: 107, Reward: -19.00, Epsilon: 0.10\n"
     ]
    },
    {
     "name": "stderr",
     "output_type": "stream",
     "text": [
      " 73%|███████▎  | 109/150 [3:24:49<1:18:32, 114.94s/it]"
     ]
    },
    {
     "name": "stdout",
     "output_type": "stream",
     "text": [
      "Episode: 108, Reward: -19.00, Epsilon: 0.10\n",
      "Episode: 108, Reward: -19.00, Epsilon: 0.10\n",
      "Episode: 108, Reward: -20.00, Epsilon: 0.10\n",
      "Episode: 108, Reward: -19.00, Epsilon: 0.10\n",
      "Episode: 108, Reward: -19.00, Epsilon: 0.10\n",
      "Episode: 108, Reward: -18.00, Epsilon: 0.10\n",
      "Episode: 108, Reward: -20.00, Epsilon: 0.10\n",
      "Episode: 108, Reward: -19.00, Epsilon: 0.10\n"
     ]
    },
    {
     "name": "stderr",
     "output_type": "stream",
     "text": [
      " 73%|███████▎  | 110/150 [3:26:47<1:17:09, 115.74s/it]"
     ]
    },
    {
     "name": "stdout",
     "output_type": "stream",
     "text": [
      "Episode: 109, Reward: -18.00, Epsilon: 0.10\n",
      "Episode: 109, Reward: -19.00, Epsilon: 0.10\n",
      "Episode: 109, Reward: -20.00, Epsilon: 0.10\n",
      "Episode: 109, Reward: -19.00, Epsilon: 0.10\n",
      "Episode: 109, Reward: -18.00, Epsilon: 0.10\n",
      "Episode: 109, Reward: -18.00, Epsilon: 0.10\n",
      "Episode: 109, Reward: -21.00, Epsilon: 0.10\n",
      "Episode: 109, Reward: -20.00, Epsilon: 0.10\n"
     ]
    },
    {
     "name": "stderr",
     "output_type": "stream",
     "text": [
      " 74%|███████▍  | 111/150 [3:28:35<1:13:51, 113.62s/it]"
     ]
    },
    {
     "name": "stdout",
     "output_type": "stream",
     "text": [
      "Episode: 110, Reward: -18.00, Epsilon: 0.10\n",
      "Episode: 110, Reward: -19.00, Epsilon: 0.10\n",
      "Episode: 110, Reward: -21.00, Epsilon: 0.10\n",
      "Episode: 110, Reward: -18.00, Epsilon: 0.10\n",
      "Episode: 110, Reward: -17.00, Epsilon: 0.10\n",
      "Episode: 110, Reward: -18.00, Epsilon: 0.10\n",
      "Episode: 110, Reward: -14.00, Epsilon: 0.10\n",
      "Episode: 110, Reward: -21.00, Epsilon: 0.10\n"
     ]
    },
    {
     "name": "stderr",
     "output_type": "stream",
     "text": [
      " 75%|███████▍  | 112/150 [3:30:24<1:10:59, 112.10s/it]"
     ]
    },
    {
     "name": "stdout",
     "output_type": "stream",
     "text": [
      "Episode: 111, Reward: -21.00, Epsilon: 0.10\n",
      "Episode: 111, Reward: -21.00, Epsilon: 0.10\n",
      "Episode: 111, Reward: -21.00, Epsilon: 0.10\n",
      "Episode: 111, Reward: -21.00, Epsilon: 0.10\n",
      "Episode: 111, Reward: -21.00, Epsilon: 0.10\n",
      "Episode: 111, Reward: -16.00, Epsilon: 0.10\n",
      "Episode: 111, Reward: -21.00, Epsilon: 0.10\n",
      "Episode: 111, Reward: -21.00, Epsilon: 0.10\n"
     ]
    },
    {
     "name": "stderr",
     "output_type": "stream",
     "text": [
      " 75%|███████▌  | 113/150 [3:32:13<1:08:30, 111.10s/it]"
     ]
    },
    {
     "name": "stdout",
     "output_type": "stream",
     "text": [
      "Episode: 112, Reward: -21.00, Epsilon: 0.10\n",
      "Episode: 112, Reward: -21.00, Epsilon: 0.10\n",
      "Episode: 112, Reward: -21.00, Epsilon: 0.10\n",
      "Episode: 112, Reward: -17.00, Epsilon: 0.10\n",
      "Episode: 112, Reward: -21.00, Epsilon: 0.10\n",
      "Episode: 112, Reward: -17.00, Epsilon: 0.10\n",
      "Episode: 112, Reward: -17.00, Epsilon: 0.10\n",
      "Episode: 112, Reward: -19.00, Epsilon: 0.10\n"
     ]
    },
    {
     "name": "stderr",
     "output_type": "stream",
     "text": [
      " 76%|███████▌  | 114/150 [3:34:01<1:06:12, 110.34s/it]"
     ]
    },
    {
     "name": "stdout",
     "output_type": "stream",
     "text": [
      "Episode: 113, Reward: -21.00, Epsilon: 0.10\n",
      "Episode: 113, Reward: -21.00, Epsilon: 0.10\n",
      "Episode: 113, Reward: -21.00, Epsilon: 0.10\n",
      "Episode: 113, Reward: -21.00, Epsilon: 0.10\n",
      "Episode: 113, Reward: -21.00, Epsilon: 0.10\n",
      "Episode: 113, Reward: -19.00, Epsilon: 0.10\n",
      "Episode: 113, Reward: -21.00, Epsilon: 0.10\n",
      "Episode: 113, Reward: -19.00, Epsilon: 0.10\n"
     ]
    },
    {
     "name": "stderr",
     "output_type": "stream",
     "text": [
      " 77%|███████▋  | 115/150 [3:35:50<1:04:03, 109.81s/it]"
     ]
    },
    {
     "name": "stdout",
     "output_type": "stream",
     "text": [
      "Episode: 114, Reward: -21.00, Epsilon: 0.10\n",
      "Episode: 114, Reward: -21.00, Epsilon: 0.10\n",
      "Episode: 114, Reward: -21.00, Epsilon: 0.10\n",
      "Episode: 114, Reward: -21.00, Epsilon: 0.10\n",
      "Episode: 114, Reward: -21.00, Epsilon: 0.10\n",
      "Episode: 114, Reward: -21.00, Epsilon: 0.10\n",
      "Episode: 114, Reward: -21.00, Epsilon: 0.10\n",
      "Episode: 114, Reward: -21.00, Epsilon: 0.10\n"
     ]
    },
    {
     "name": "stderr",
     "output_type": "stream",
     "text": [
      " 77%|███████▋  | 116/150 [3:37:39<1:02:02, 109.48s/it]"
     ]
    },
    {
     "name": "stdout",
     "output_type": "stream",
     "text": [
      "Episode: 115, Reward: -20.00, Epsilon: 0.10\n",
      "Episode: 115, Reward: -20.00, Epsilon: 0.10\n",
      "Episode: 115, Reward: -21.00, Epsilon: 0.10\n",
      "Episode: 115, Reward: -21.00, Epsilon: 0.10\n",
      "Episode: 115, Reward: -20.00, Epsilon: 0.10\n",
      "Episode: 115, Reward: -20.00, Epsilon: 0.10\n",
      "Episode: 115, Reward: -21.00, Epsilon: 0.10\n",
      "Episode: 115, Reward: -20.00, Epsilon: 0.10\n"
     ]
    },
    {
     "name": "stderr",
     "output_type": "stream",
     "text": [
      " 78%|███████▊  | 117/150 [3:39:27<1:00:04, 109.23s/it]"
     ]
    },
    {
     "name": "stdout",
     "output_type": "stream",
     "text": [
      "Episode: 116, Reward: -21.00, Epsilon: 0.10\n",
      "Episode: 116, Reward: -21.00, Epsilon: 0.10\n",
      "Episode: 116, Reward: -21.00, Epsilon: 0.10\n",
      "Episode: 116, Reward: -21.00, Epsilon: 0.10\n",
      "Episode: 116, Reward: -21.00, Epsilon: 0.10\n",
      "Episode: 116, Reward: -21.00, Epsilon: 0.10\n",
      "Episode: 116, Reward: -17.00, Epsilon: 0.10\n",
      "Episode: 116, Reward: -21.00, Epsilon: 0.10\n"
     ]
    },
    {
     "name": "stderr",
     "output_type": "stream",
     "text": [
      " 79%|███████▊  | 118/150 [3:41:16<58:10, 109.07s/it]  "
     ]
    },
    {
     "name": "stdout",
     "output_type": "stream",
     "text": [
      "Episode: 117, Reward: -19.00, Epsilon: 0.10\n",
      "Episode: 117, Reward: -19.00, Epsilon: 0.10\n",
      "Episode: 117, Reward: -19.00, Epsilon: 0.10\n",
      "Episode: 117, Reward: -16.00, Epsilon: 0.10\n",
      "Episode: 117, Reward: -21.00, Epsilon: 0.10\n",
      "Episode: 117, Reward: -19.00, Epsilon: 0.10\n",
      "Episode: 117, Reward: -21.00, Epsilon: 0.10\n",
      "Episode: 117, Reward: -21.00, Epsilon: 0.10\n"
     ]
    },
    {
     "name": "stderr",
     "output_type": "stream",
     "text": [
      " 79%|███████▉  | 119/150 [3:43:05<56:19, 109.02s/it]"
     ]
    },
    {
     "name": "stdout",
     "output_type": "stream",
     "text": [
      "Episode: 118, Reward: -21.00, Epsilon: 0.10\n",
      "Episode: 118, Reward: -21.00, Epsilon: 0.10\n",
      "Episode: 118, Reward: -21.00, Epsilon: 0.10\n",
      "Episode: 118, Reward: -21.00, Epsilon: 0.10\n",
      "Episode: 118, Reward: -21.00, Epsilon: 0.10\n",
      "Episode: 118, Reward: -21.00, Epsilon: 0.10\n",
      "Episode: 118, Reward: -21.00, Epsilon: 0.10\n",
      "Episode: 118, Reward: -21.00, Epsilon: 0.10\n"
     ]
    },
    {
     "name": "stderr",
     "output_type": "stream",
     "text": [
      " 80%|████████  | 120/150 [3:44:54<54:29, 108.97s/it]"
     ]
    },
    {
     "name": "stdout",
     "output_type": "stream",
     "text": [
      "Episode: 119, Reward: -17.00, Epsilon: 0.10\n",
      "Episode: 119, Reward: -21.00, Epsilon: 0.10\n",
      "Episode: 119, Reward: -20.00, Epsilon: 0.10\n",
      "Episode: 119, Reward: -16.00, Epsilon: 0.10\n",
      "Episode: 119, Reward: -20.00, Epsilon: 0.10\n",
      "Episode: 119, Reward: -18.00, Epsilon: 0.10\n",
      "Episode: 119, Reward: -19.00, Epsilon: 0.10\n",
      "Episode: 119, Reward: -21.00, Epsilon: 0.10\n"
     ]
    },
    {
     "name": "stderr",
     "output_type": "stream",
     "text": [
      " 81%|████████  | 121/150 [3:46:43<52:39, 108.94s/it]"
     ]
    },
    {
     "name": "stdout",
     "output_type": "stream",
     "text": [
      "Episode: 120, Reward: -17.00, Epsilon: 0.10\n",
      "Episode: 120, Reward: -16.00, Epsilon: 0.10\n",
      "Episode: 120, Reward: -14.00, Epsilon: 0.10\n",
      "Episode: 120, Reward: -19.00, Epsilon: 0.10\n",
      "Episode: 120, Reward: -21.00, Epsilon: 0.10\n",
      "Episode: 120, Reward: -13.00, Epsilon: 0.10\n",
      "Episode: 120, Reward: -17.00, Epsilon: 0.10\n",
      "Episode: 120, Reward: -18.00, Epsilon: 0.10\n"
     ]
    },
    {
     "name": "stderr",
     "output_type": "stream",
     "text": [
      " 81%|████████▏ | 122/150 [3:48:31<50:49, 108.92s/it]"
     ]
    },
    {
     "name": "stdout",
     "output_type": "stream",
     "text": [
      "Episode: 121, Reward: -17.00, Epsilon: 0.10\n",
      "Episode: 121, Reward: -17.00, Epsilon: 0.10\n",
      "Episode: 121, Reward: -17.00, Epsilon: 0.10\n",
      "Episode: 121, Reward: -17.00, Epsilon: 0.10\n",
      "Episode: 121, Reward: -17.00, Epsilon: 0.10\n",
      "Episode: 121, Reward: -21.00, Epsilon: 0.10\n",
      "Episode: 121, Reward: -20.00, Epsilon: 0.10\n",
      "Episode: 121, Reward: -14.00, Epsilon: 0.10\n"
     ]
    },
    {
     "name": "stderr",
     "output_type": "stream",
     "text": [
      " 82%|████████▏ | 123/150 [3:50:29<50:08, 111.43s/it]"
     ]
    },
    {
     "name": "stdout",
     "output_type": "stream",
     "text": [
      "Episode: 122, Reward: -21.00, Epsilon: 0.10\n",
      "Episode: 122, Reward: -19.00, Epsilon: 0.10\n",
      "Episode: 122, Reward: -20.00, Epsilon: 0.10\n",
      "Episode: 122, Reward: -21.00, Epsilon: 0.10\n",
      "Episode: 122, Reward: -20.00, Epsilon: 0.10\n",
      "Episode: 122, Reward: -21.00, Epsilon: 0.10\n",
      "Episode: 122, Reward: -21.00, Epsilon: 0.10\n",
      "Episode: 122, Reward: -19.00, Epsilon: 0.10\n"
     ]
    },
    {
     "name": "stderr",
     "output_type": "stream",
     "text": [
      " 83%|████████▎ | 124/150 [3:52:18<47:57, 110.66s/it]"
     ]
    },
    {
     "name": "stdout",
     "output_type": "stream",
     "text": [
      "Episode: 123, Reward: -21.00, Epsilon: 0.10\n",
      "Episode: 123, Reward: -21.00, Epsilon: 0.10\n",
      "Episode: 123, Reward: -21.00, Epsilon: 0.10\n",
      "Episode: 123, Reward: -21.00, Epsilon: 0.10\n",
      "Episode: 123, Reward: -21.00, Epsilon: 0.10\n",
      "Episode: 123, Reward: -21.00, Epsilon: 0.10\n",
      "Episode: 123, Reward: -21.00, Epsilon: 0.10\n",
      "Episode: 123, Reward: -21.00, Epsilon: 0.10\n"
     ]
    },
    {
     "name": "stderr",
     "output_type": "stream",
     "text": [
      " 83%|████████▎ | 125/150 [3:54:15<46:56, 112.67s/it]"
     ]
    },
    {
     "name": "stdout",
     "output_type": "stream",
     "text": [
      "Episode: 124, Reward: -19.00, Epsilon: 0.10\n",
      "Episode: 124, Reward: -19.00, Epsilon: 0.10\n",
      "Episode: 124, Reward: -16.00, Epsilon: 0.10\n",
      "Episode: 124, Reward: -21.00, Epsilon: 0.10\n",
      "Episode: 124, Reward: -20.00, Epsilon: 0.10\n",
      "Episode: 124, Reward: -21.00, Epsilon: 0.10\n",
      "Episode: 124, Reward: -19.00, Epsilon: 0.10\n",
      "Episode: 124, Reward: -16.00, Epsilon: 0.10\n"
     ]
    },
    {
     "name": "stderr",
     "output_type": "stream",
     "text": [
      " 84%|████████▍ | 126/150 [3:56:13<45:41, 114.24s/it]"
     ]
    },
    {
     "name": "stdout",
     "output_type": "stream",
     "text": [
      "Episode: 125, Reward: -21.00, Epsilon: 0.10\n",
      "Episode: 125, Reward: -11.00, Epsilon: 0.10\n",
      "Episode: 125, Reward: -21.00, Epsilon: 0.10\n",
      "Episode: 125, Reward: -21.00, Epsilon: 0.10\n",
      "Episode: 125, Reward: -17.00, Epsilon: 0.10\n",
      "Episode: 125, Reward: -15.00, Epsilon: 0.10\n",
      "Episode: 125, Reward: -21.00, Epsilon: 0.10\n",
      "Episode: 125, Reward: -19.00, Epsilon: 0.10\n"
     ]
    },
    {
     "name": "stderr",
     "output_type": "stream",
     "text": [
      " 85%|████████▍ | 127/150 [3:58:02<43:09, 112.60s/it]"
     ]
    },
    {
     "name": "stdout",
     "output_type": "stream",
     "text": [
      "Episode: 126, Reward: -17.00, Epsilon: 0.10\n",
      "Episode: 126, Reward: -21.00, Epsilon: 0.10\n",
      "Episode: 126, Reward: -19.00, Epsilon: 0.10\n",
      "Episode: 126, Reward: -21.00, Epsilon: 0.10\n",
      "Episode: 126, Reward: -19.00, Epsilon: 0.10\n",
      "Episode: 126, Reward: -19.00, Epsilon: 0.10\n",
      "Episode: 126, Reward: -17.00, Epsilon: 0.10\n",
      "Episode: 126, Reward: -21.00, Epsilon: 0.10\n"
     ]
    },
    {
     "name": "stderr",
     "output_type": "stream",
     "text": [
      " 85%|████████▌ | 128/150 [3:59:50<40:50, 111.41s/it]"
     ]
    },
    {
     "name": "stdout",
     "output_type": "stream",
     "text": [
      "Episode: 127, Reward: -19.00, Epsilon: 0.10\n",
      "Episode: 127, Reward: -21.00, Epsilon: 0.10\n",
      "Episode: 127, Reward: -19.00, Epsilon: 0.10\n",
      "Episode: 127, Reward: -19.00, Epsilon: 0.10\n",
      "Episode: 127, Reward: -18.00, Epsilon: 0.10\n",
      "Episode: 127, Reward: -19.00, Epsilon: 0.10\n",
      "Episode: 127, Reward: -19.00, Epsilon: 0.10\n",
      "Episode: 127, Reward: -19.00, Epsilon: 0.10\n"
     ]
    },
    {
     "name": "stderr",
     "output_type": "stream",
     "text": [
      " 86%|████████▌ | 129/150 [4:01:48<39:36, 113.18s/it]"
     ]
    },
    {
     "name": "stdout",
     "output_type": "stream",
     "text": [
      "Episode: 128, Reward: -21.00, Epsilon: 0.10\n",
      "Episode: 128, Reward: -19.00, Epsilon: 0.10\n",
      "Episode: 128, Reward: -21.00, Epsilon: 0.10\n",
      "Episode: 128, Reward: -21.00, Epsilon: 0.10\n",
      "Episode: 128, Reward: -20.00, Epsilon: 0.10\n",
      "Episode: 128, Reward: -19.00, Epsilon: 0.10\n",
      "Episode: 128, Reward: -21.00, Epsilon: 0.10\n",
      "Episode: 128, Reward: -19.00, Epsilon: 0.10\n"
     ]
    },
    {
     "name": "stderr",
     "output_type": "stream",
     "text": [
      " 87%|████████▋ | 130/150 [4:03:36<37:17, 111.87s/it]"
     ]
    },
    {
     "name": "stdout",
     "output_type": "stream",
     "text": [
      "Episode: 129, Reward: -18.00, Epsilon: 0.10\n",
      "Episode: 129, Reward: -19.00, Epsilon: 0.10\n",
      "Episode: 129, Reward: -19.00, Epsilon: 0.10\n",
      "Episode: 129, Reward: -15.00, Epsilon: 0.10\n",
      "Episode: 129, Reward: -21.00, Epsilon: 0.10\n",
      "Episode: 129, Reward: -19.00, Epsilon: 0.10\n",
      "Episode: 129, Reward: -21.00, Epsilon: 0.10\n",
      "Episode: 129, Reward: -10.00, Epsilon: 0.10\n"
     ]
    },
    {
     "name": "stderr",
     "output_type": "stream",
     "text": [
      " 87%|████████▋ | 131/150 [4:05:25<35:07, 110.91s/it]"
     ]
    },
    {
     "name": "stdout",
     "output_type": "stream",
     "text": [
      "Episode: 130, Reward: -21.00, Epsilon: 0.10\n",
      "Episode: 130, Reward: -21.00, Epsilon: 0.10\n",
      "Episode: 130, Reward: -21.00, Epsilon: 0.10\n",
      "Episode: 130, Reward: -21.00, Epsilon: 0.10\n",
      "Episode: 130, Reward: -21.00, Epsilon: 0.10\n",
      "Episode: 130, Reward: -21.00, Epsilon: 0.10\n",
      "Episode: 130, Reward: -21.00, Epsilon: 0.10\n",
      "Episode: 130, Reward: -21.00, Epsilon: 0.10\n"
     ]
    },
    {
     "name": "stderr",
     "output_type": "stream",
     "text": [
      " 88%|████████▊ | 132/150 [4:07:23<33:52, 112.91s/it]"
     ]
    },
    {
     "name": "stdout",
     "output_type": "stream",
     "text": [
      "Episode: 131, Reward: -21.00, Epsilon: 0.10\n",
      "Episode: 131, Reward: -20.00, Epsilon: 0.10\n",
      "Episode: 131, Reward: -19.00, Epsilon: 0.10\n",
      "Episode: 131, Reward: -21.00, Epsilon: 0.10\n",
      "Episode: 131, Reward: -17.00, Epsilon: 0.10\n",
      "Episode: 131, Reward: -17.00, Epsilon: 0.10\n",
      "Episode: 131, Reward: -19.00, Epsilon: 0.10\n",
      "Episode: 131, Reward: -19.00, Epsilon: 0.10\n"
     ]
    },
    {
     "name": "stderr",
     "output_type": "stream",
     "text": [
      " 89%|████████▊ | 133/150 [4:09:18<32:12, 113.70s/it]"
     ]
    },
    {
     "name": "stdout",
     "output_type": "stream",
     "text": [
      "Episode: 132, Reward: -20.00, Epsilon: 0.10\n",
      "Episode: 132, Reward: -19.00, Epsilon: 0.10\n",
      "Episode: 132, Reward: -16.00, Epsilon: 0.10\n",
      "Episode: 132, Reward: -16.00, Epsilon: 0.10\n",
      "Episode: 132, Reward: -19.00, Epsilon: 0.10\n",
      "Episode: 132, Reward: -21.00, Epsilon: 0.10\n",
      "Episode: 132, Reward: -16.00, Epsilon: 0.10\n",
      "Episode: 132, Reward: -20.00, Epsilon: 0.10\n"
     ]
    },
    {
     "name": "stderr",
     "output_type": "stream",
     "text": [
      " 89%|████████▉ | 134/150 [4:11:11<30:16, 113.53s/it]"
     ]
    },
    {
     "name": "stdout",
     "output_type": "stream",
     "text": [
      "Episode: 133, Reward: -18.00, Epsilon: 0.10\n",
      "Episode: 133, Reward: -21.00, Epsilon: 0.10\n",
      "Episode: 133, Reward: -18.00, Epsilon: 0.10\n",
      "Episode: 133, Reward: -18.00, Epsilon: 0.10\n",
      "Episode: 133, Reward: -19.00, Epsilon: 0.10\n",
      "Episode: 133, Reward: -18.00, Epsilon: 0.10\n",
      "Episode: 133, Reward: -18.00, Epsilon: 0.10\n",
      "Episode: 133, Reward: -14.00, Epsilon: 0.10\n"
     ]
    },
    {
     "name": "stderr",
     "output_type": "stream",
     "text": [
      " 90%|█████████ | 135/150 [4:13:04<28:21, 113.41s/it]"
     ]
    },
    {
     "name": "stdout",
     "output_type": "stream",
     "text": [
      "Episode: 134, Reward: -18.00, Epsilon: 0.10\n",
      "Episode: 134, Reward: -19.00, Epsilon: 0.10\n",
      "Episode: 134, Reward: -17.00, Epsilon: 0.10\n",
      "Episode: 134, Reward: -18.00, Epsilon: 0.10\n",
      "Episode: 134, Reward: -19.00, Epsilon: 0.10\n",
      "Episode: 134, Reward: -21.00, Epsilon: 0.10\n",
      "Episode: 134, Reward: -20.00, Epsilon: 0.10\n",
      "Episode: 134, Reward: -13.00, Epsilon: 0.10\n"
     ]
    },
    {
     "name": "stderr",
     "output_type": "stream",
     "text": [
      " 91%|█████████ | 136/150 [4:15:02<26:43, 114.53s/it]"
     ]
    },
    {
     "name": "stdout",
     "output_type": "stream",
     "text": [
      "Episode: 135, Reward: -20.00, Epsilon: 0.10\n",
      "Episode: 135, Reward: -20.00, Epsilon: 0.10\n",
      "Episode: 135, Reward: -20.00, Epsilon: 0.10\n",
      "Episode: 135, Reward: -21.00, Epsilon: 0.10\n",
      "Episode: 135, Reward: -20.00, Epsilon: 0.10\n",
      "Episode: 135, Reward: -20.00, Epsilon: 0.10\n",
      "Episode: 135, Reward: -20.00, Epsilon: 0.10\n",
      "Episode: 135, Reward: -20.00, Epsilon: 0.10\n"
     ]
    },
    {
     "name": "stderr",
     "output_type": "stream",
     "text": [
      " 91%|█████████▏| 137/150 [4:16:53<24:36, 113.59s/it]"
     ]
    },
    {
     "name": "stdout",
     "output_type": "stream",
     "text": [
      "Episode: 136, Reward: -19.00, Epsilon: 0.10\n",
      "Episode: 136, Reward: -21.00, Epsilon: 0.10\n",
      "Episode: 136, Reward: -20.00, Epsilon: 0.10\n",
      "Episode: 136, Reward: -19.00, Epsilon: 0.10\n",
      "Episode: 136, Reward: -15.00, Epsilon: 0.10\n",
      "Episode: 136, Reward: -18.00, Epsilon: 0.10\n",
      "Episode: 136, Reward: -21.00, Epsilon: 0.10\n",
      "Episode: 136, Reward: -21.00, Epsilon: 0.10\n"
     ]
    },
    {
     "name": "stderr",
     "output_type": "stream",
     "text": [
      " 92%|█████████▏| 138/150 [4:18:42<22:25, 112.12s/it]"
     ]
    },
    {
     "name": "stdout",
     "output_type": "stream",
     "text": [
      "Episode: 137, Reward: -21.00, Epsilon: 0.10\n",
      "Episode: 137, Reward: -21.00, Epsilon: 0.10\n",
      "Episode: 137, Reward: -21.00, Epsilon: 0.10\n",
      "Episode: 137, Reward: -21.00, Epsilon: 0.10\n",
      "Episode: 137, Reward: -21.00, Epsilon: 0.10\n",
      "Episode: 137, Reward: -21.00, Epsilon: 0.10\n",
      "Episode: 137, Reward: -21.00, Epsilon: 0.10\n",
      "Episode: 137, Reward: -21.00, Epsilon: 0.10\n"
     ]
    },
    {
     "name": "stderr",
     "output_type": "stream",
     "text": [
      " 93%|█████████▎| 139/150 [4:20:30<20:21, 111.03s/it]"
     ]
    },
    {
     "name": "stdout",
     "output_type": "stream",
     "text": [
      "Episode: 138, Reward: -21.00, Epsilon: 0.10\n",
      "Episode: 138, Reward: -21.00, Epsilon: 0.10\n",
      "Episode: 138, Reward: -21.00, Epsilon: 0.10\n",
      "Episode: 138, Reward: -21.00, Epsilon: 0.10\n",
      "Episode: 138, Reward: -21.00, Epsilon: 0.10\n",
      "Episode: 138, Reward: -21.00, Epsilon: 0.10\n",
      "Episode: 138, Reward: -21.00, Epsilon: 0.10\n",
      "Episode: 138, Reward: -21.00, Epsilon: 0.10\n"
     ]
    },
    {
     "name": "stderr",
     "output_type": "stream",
     "text": [
      " 93%|█████████▎| 140/150 [4:22:23<18:34, 111.46s/it]"
     ]
    },
    {
     "name": "stdout",
     "output_type": "stream",
     "text": [
      "Episode: 139, Reward: -18.00, Epsilon: 0.10\n",
      "Episode: 139, Reward: -21.00, Epsilon: 0.10\n",
      "Episode: 139, Reward: -18.00, Epsilon: 0.10\n",
      "Episode: 139, Reward: -19.00, Epsilon: 0.10\n",
      "Episode: 139, Reward: -18.00, Epsilon: 0.10\n",
      "Episode: 139, Reward: -18.00, Epsilon: 0.10\n",
      "Episode: 139, Reward: -18.00, Epsilon: 0.10\n",
      "Episode: 139, Reward: -18.00, Epsilon: 0.10\n"
     ]
    },
    {
     "name": "stderr",
     "output_type": "stream",
     "text": [
      " 94%|█████████▍| 141/150 [4:24:15<16:45, 111.77s/it]"
     ]
    },
    {
     "name": "stdout",
     "output_type": "stream",
     "text": [
      "Episode: 140, Reward: -18.00, Epsilon: 0.10\n",
      "Episode: 140, Reward: -17.00, Epsilon: 0.10\n",
      "Episode: 140, Reward: -15.00, Epsilon: 0.10\n",
      "Episode: 140, Reward: -18.00, Epsilon: 0.10\n",
      "Episode: 140, Reward: -20.00, Epsilon: 0.10\n",
      "Episode: 140, Reward: -21.00, Epsilon: 0.10\n",
      "Episode: 140, Reward: -21.00, Epsilon: 0.10\n",
      "Episode: 140, Reward: -13.00, Epsilon: 0.10\n"
     ]
    },
    {
     "name": "stderr",
     "output_type": "stream",
     "text": [
      " 95%|█████████▍| 142/150 [4:26:04<14:46, 110.79s/it]"
     ]
    },
    {
     "name": "stdout",
     "output_type": "stream",
     "text": [
      "Episode: 141, Reward: -21.00, Epsilon: 0.10\n",
      "Episode: 141, Reward: -21.00, Epsilon: 0.10\n",
      "Episode: 141, Reward: -21.00, Epsilon: 0.10\n",
      "Episode: 141, Reward: -21.00, Epsilon: 0.10\n",
      "Episode: 141, Reward: -21.00, Epsilon: 0.10\n",
      "Episode: 141, Reward: -21.00, Epsilon: 0.10\n",
      "Episode: 141, Reward: -21.00, Epsilon: 0.10\n",
      "Episode: 141, Reward: -21.00, Epsilon: 0.10\n"
     ]
    },
    {
     "name": "stderr",
     "output_type": "stream",
     "text": [
      " 95%|█████████▌| 143/150 [4:27:53<12:51, 110.26s/it]"
     ]
    },
    {
     "name": "stdout",
     "output_type": "stream",
     "text": [
      "Episode: 142, Reward: -20.00, Epsilon: 0.10\n",
      "Episode: 142, Reward: -21.00, Epsilon: 0.10\n",
      "Episode: 142, Reward: -20.00, Epsilon: 0.10\n",
      "Episode: 142, Reward: -20.00, Epsilon: 0.10\n",
      "Episode: 142, Reward: -20.00, Epsilon: 0.10\n",
      "Episode: 142, Reward: -20.00, Epsilon: 0.10\n",
      "Episode: 142, Reward: -20.00, Epsilon: 0.10\n",
      "Episode: 142, Reward: -21.00, Epsilon: 0.10\n"
     ]
    },
    {
     "name": "stderr",
     "output_type": "stream",
     "text": [
      " 96%|█████████▌| 144/150 [4:29:42<10:59, 109.90s/it]"
     ]
    },
    {
     "name": "stdout",
     "output_type": "stream",
     "text": [
      "Episode: 143, Reward: -20.00, Epsilon: 0.10\n",
      "Episode: 143, Reward: -21.00, Epsilon: 0.10\n",
      "Episode: 143, Reward: -21.00, Epsilon: 0.10\n",
      "Episode: 143, Reward: -20.00, Epsilon: 0.10\n",
      "Episode: 143, Reward: -18.00, Epsilon: 0.10\n",
      "Episode: 143, Reward: -21.00, Epsilon: 0.10\n",
      "Episode: 143, Reward: -21.00, Epsilon: 0.10\n",
      "Episode: 143, Reward: -21.00, Epsilon: 0.10\n"
     ]
    },
    {
     "name": "stderr",
     "output_type": "stream",
     "text": [
      " 97%|█████████▋| 145/150 [4:31:31<09:07, 109.58s/it]"
     ]
    },
    {
     "name": "stdout",
     "output_type": "stream",
     "text": [
      "Episode: 144, Reward: -21.00, Epsilon: 0.10\n",
      "Episode: 144, Reward: -21.00, Epsilon: 0.10\n",
      "Episode: 144, Reward: -21.00, Epsilon: 0.10\n",
      "Episode: 144, Reward: -21.00, Epsilon: 0.10\n",
      "Episode: 144, Reward: -21.00, Epsilon: 0.10\n",
      "Episode: 144, Reward: -21.00, Epsilon: 0.10\n",
      "Episode: 144, Reward: -21.00, Epsilon: 0.10\n",
      "Episode: 144, Reward: -21.00, Epsilon: 0.10\n"
     ]
    },
    {
     "name": "stderr",
     "output_type": "stream",
     "text": [
      " 97%|█████████▋| 146/150 [4:33:20<07:17, 109.40s/it]"
     ]
    },
    {
     "name": "stdout",
     "output_type": "stream",
     "text": [
      "Episode: 145, Reward: -21.00, Epsilon: 0.10\n",
      "Episode: 145, Reward: -21.00, Epsilon: 0.10\n",
      "Episode: 145, Reward: -21.00, Epsilon: 0.10\n",
      "Episode: 145, Reward: -21.00, Epsilon: 0.10\n",
      "Episode: 145, Reward: -21.00, Epsilon: 0.10\n",
      "Episode: 145, Reward: -21.00, Epsilon: 0.10\n",
      "Episode: 145, Reward: -21.00, Epsilon: 0.10\n",
      "Episode: 145, Reward: -21.00, Epsilon: 0.10\n"
     ]
    },
    {
     "name": "stderr",
     "output_type": "stream",
     "text": [
      " 98%|█████████▊| 147/150 [4:35:08<05:27, 109.23s/it]"
     ]
    },
    {
     "name": "stdout",
     "output_type": "stream",
     "text": [
      "Episode: 146, Reward: -21.00, Epsilon: 0.10\n",
      "Episode: 146, Reward: -19.00, Epsilon: 0.10\n",
      "Episode: 146, Reward: -19.00, Epsilon: 0.10\n",
      "Episode: 146, Reward: -19.00, Epsilon: 0.10\n",
      "Episode: 146, Reward: -19.00, Epsilon: 0.10\n",
      "Episode: 146, Reward: -20.00, Epsilon: 0.10\n",
      "Episode: 146, Reward: -19.00, Epsilon: 0.10\n",
      "Episode: 146, Reward: -21.00, Epsilon: 0.10\n"
     ]
    },
    {
     "name": "stderr",
     "output_type": "stream",
     "text": [
      " 99%|█████████▊| 148/150 [4:36:57<03:38, 109.12s/it]"
     ]
    },
    {
     "name": "stdout",
     "output_type": "stream",
     "text": [
      "Episode: 147, Reward: -19.00, Epsilon: 0.10\n",
      "Episode: 147, Reward: -15.00, Epsilon: 0.10\n",
      "Episode: 147, Reward: -19.00, Epsilon: 0.10\n",
      "Episode: 147, Reward: -19.00, Epsilon: 0.10\n",
      "Episode: 147, Reward: -19.00, Epsilon: 0.10\n",
      "Episode: 147, Reward: -19.00, Epsilon: 0.10\n",
      "Episode: 147, Reward: -21.00, Epsilon: 0.10\n",
      "Episode: 147, Reward: -21.00, Epsilon: 0.10\n"
     ]
    },
    {
     "name": "stderr",
     "output_type": "stream",
     "text": [
      " 99%|█████████▉| 149/150 [4:38:46<01:49, 109.14s/it]"
     ]
    },
    {
     "name": "stdout",
     "output_type": "stream",
     "text": [
      "Episode: 148, Reward: -21.00, Epsilon: 0.10\n",
      "Episode: 148, Reward: -21.00, Epsilon: 0.10\n",
      "Episode: 148, Reward: -21.00, Epsilon: 0.10\n",
      "Episode: 148, Reward: -21.00, Epsilon: 0.10\n",
      "Episode: 148, Reward: -21.00, Epsilon: 0.10\n",
      "Episode: 148, Reward: -21.00, Epsilon: 0.10\n",
      "Episode: 148, Reward: -21.00, Epsilon: 0.10\n",
      "Episode: 148, Reward: -21.00, Epsilon: 0.10\n"
     ]
    },
    {
     "name": "stderr",
     "output_type": "stream",
     "text": [
      "100%|██████████| 150/150 [4:40:35<00:00, 112.24s/it]"
     ]
    },
    {
     "name": "stdout",
     "output_type": "stream",
     "text": [
      "Episode: 149, Reward: -21.00, Epsilon: 0.10\n",
      "Episode: 149, Reward: -21.00, Epsilon: 0.10\n",
      "Episode: 149, Reward: -21.00, Epsilon: 0.10\n",
      "Episode: 149, Reward: -21.00, Epsilon: 0.10\n",
      "Episode: 149, Reward: -21.00, Epsilon: 0.10\n",
      "Episode: 149, Reward: -17.00, Epsilon: 0.10\n",
      "Episode: 149, Reward: -21.00, Epsilon: 0.10\n",
      "Episode: 149, Reward: -16.00, Epsilon: 0.10\n"
     ]
    },
    {
     "name": "stderr",
     "output_type": "stream",
     "text": [
      "\n"
     ]
    }
   ],
   "source": [
    "env_name=\"PongNoFrameskip-v4\"\n",
    "num_episodes=150\n",
    "target_update=10\n",
    "num_envs=8\n",
    "history=[]\n",
    "envs = DummyVecEnv([make_env(env_name) for _ in range(num_envs)])  # Vectorized environments\n",
    "agent = DQNAgent(envs)\n",
    "\n",
    "from torch.cuda.amp import GradScaler, autocast\n",
    "\n",
    "# Initialize a gradient scaler\n",
    "scaler = GradScaler(\"cuda\")\n",
    "\n",
    "for episode in tqdm(range(num_episodes)):\n",
    "    states = envs.reset()\n",
    "    states = np.stack([preprocess_frame(s) for s in states], axis=0)\n",
    "    states = np.stack([states] * 4, axis=1)  # Stack frames for input\n",
    "    episode_rewards = np.zeros(num_envs)\n",
    "\n",
    "    while True:\n",
    "        actions = [agent.select_action(state) for state in states]\n",
    "        next_states, rewards, dones, _ = envs.step(actions)\n",
    "        next_states = np.stack([preprocess_frame(ns) for ns in next_states], axis=0)\n",
    "        next_states = np.concatenate([states[:, 1:], np.expand_dims(next_states, axis=1)], axis=1)\n",
    "\n",
    "        # Store experiences and perform mixed-precision training\n",
    "        for i in range(num_envs):\n",
    "            agent.store_experience(states[i], actions[i], rewards[i], next_states[i], dones[i])\n",
    "\n",
    "        # Mixed precision training step\n",
    "        with autocast():  # Enable autocast for mixed precision\n",
    "            agent.train_step()  # Ensure train_step uses scaler.scale(loss).backward() internally if computing loss\n",
    "\n",
    "        # Update states and rewards\n",
    "        states = next_states\n",
    "        episode_rewards += rewards\n",
    "        agent.epsilon = max(agent.epsilon_min, agent.epsilon * agent.epsilon_decay)    \n",
    "\n",
    "        if dones.any():\n",
    "            break\n",
    "\n",
    "    \n",
    "\n",
    "    if episode % target_update == 0:\n",
    "        agent.update_target_net()\n",
    "\n",
    "        \n",
    "    for i in range(num_envs): \n",
    "        print(f\"Episode: {episode}, Reward: {episode_rewards[i]:.2f}, Epsilon: {agent.epsilon:.2f}\")\n",
    "        history.append(episode_rewards[i])\n",
    "\n",
    "envs.close()\n",
    "\n",
    "torch.save(agent.policy_net.state_dict(), 'dqn_policy_net.pth')  # Save the policy network\n",
    "torch.save(agent.target_net.state_dict(), 'dqn_target_net.pth')  # Save the target network\n",
    "torch.save(agent.optimizer.state_dict(), 'dqn_optimizer.pth')     # Save the optimizer state\n",
    "\n",
    "# Save the history list as a .npy file\n",
    "np.save('dqn_history.npy', history)  # Save the history list    "
   ]
  },
  {
   "cell_type": "code",
   "execution_count": null,
   "metadata": {},
   "outputs": [],
   "source": [
    "# Create a new instance of your DQNAgent\n",
    "# agent = DQNAgent(envs)  # Initialize with the same environment and parameters\n",
    "\n",
    "# # Load the state dictionaries into your model\n",
    "# agent.policy_net.load_state_dict(torch.load('dqn_policy_net.pth'))\n",
    "# agent.target_net.load_state_dict(torch.load('dqn_target_net.pth'))\n",
    "# agent.optimizer.load_state_dict(torch.load('dqn_optimizer.pth'))\n",
    "\n",
    "# # Load the history list\n",
    "# history = np.load('dqn_history.npy', allow_pickle=True)  # Load the history list\n"
   ]
  },
  {
   "cell_type": "code",
   "execution_count": null,
   "metadata": {},
   "outputs": [],
   "source": []
  }
 ],
 "metadata": {
  "kernelspec": {
   "display_name": "virtual_environment",
   "language": "python",
   "name": "python3"
  },
  "language_info": {
   "codemirror_mode": {
    "name": "ipython",
    "version": 3
   },
   "file_extension": ".py",
   "mimetype": "text/x-python",
   "name": "python",
   "nbconvert_exporter": "python",
   "pygments_lexer": "ipython3",
   "version": "3.10.11"
  }
 },
 "nbformat": 4,
 "nbformat_minor": 2
}
